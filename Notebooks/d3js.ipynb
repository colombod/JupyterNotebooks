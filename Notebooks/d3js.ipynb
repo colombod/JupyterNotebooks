{
 "cells": [
  {
   "cell_type": "markdown",
   "metadata": {},
   "source": "# Visualizing data using d3js\n\n**This is a work in progress.** It doesn't work yet in [Binder](https://mybinder.org/v2/gh/dotnet/interactive/master?urlpath=lab) because it relies on HTTP communication between the kernel and the Jupyter frontend.\n\nThis notebooks uses directly [d3.js](https://d3js.org/) library to perform custom data visualisation."
  },
  {
   "cell_type": "code",
   "execution_count": 1,
   "metadata": {},
   "source": [
    "var rnd = new Random();\r\n",
    "var a = Enumerable.Range(1,rnd.Next(4,12)).Select( t => rnd.Next(t, t*10)).ToArray();"
   ],
   "outputs": []
  },
  {
   "cell_type": "markdown",
   "metadata": {},
   "source": "Using [RequireJS](https://requirejs.org/) we import [d3.js](https://d3js.org/). We setup the rendering code, some SVG filter inspiredy by [Visual Cinnamon](https://www.visualcinnamon.com/) article on [gooey effect](https://www.visualcinnamon.com/2016/06/fun-data-visualizations-svg-gooey-effect).\n\nUsing `interactive.csharp.getVariable` we fetch the variable `a` value."
  },
  {
   "cell_type": "code",
   "execution_count": 1,
   "metadata": {},
   "source": [
    "#!javascript\r\n",
    "#!js \r\n",
    "\r\n",
    "if (typeof (notebookScope.interval) !== 'undefined') {\r\n",
    "    clearInterval(notebookScope.interval);\r\n",
    "}        \r\n",
    "\r\n",
    "notebookScope.plot = (sgvSelector, variableName) => {   \r\n",
    "    let dtreeLoader = getJsLoader({\r\n",
    "        paths: {\r\n",
    "            d3: \"https://d3js.org/d3.v5.min\"\r\n",
    "        }\r\n",
    "    });\r\n",
    "    dtreeLoader([\"d3\"], function (d3) {       \r\n",
    "        let svg = d3.\r\n",
    "            select(sgvSelector);\r\n",
    "        svg.selectAll(\"defs\").remove();\r\n",
    "        svg.selectAll(\"g\").remove();\r\n",
    "\r\n",
    "        let defs = svg.append(\"defs\");\r\n",
    "\r\n",
    "        let filter = defs.append(\"filter\").attr(\"id\", \"gooeyCodeFilter\");\r\n",
    "\r\n",
    "        filter.append(\"feGaussianBlur\")\r\n",
    "            .attr(\"in\", \"SourceGraphic\")\r\n",
    "            .attr(\"stdDeviation\", \"10\")\r\n",
    "            .attr(\"color-interpolation-filters\", \"sRGB\")\r\n",
    "            .attr(\"result\", \"blur\");\r\n",
    "\r\n",
    "        filter.append(\"feColorMatrix\")\r\n",
    "            .attr(\"in\", \"blur\")\r\n",
    "            .attr(\"mode\", \"matrix\")\r\n",
    "            .attr(\"values\", \"1 0 0 0 0  0 1 0 0 0  0 0 1 0 0  0 0 0 19 -9\")\r\n",
    "            .attr(\"result\", \"gooey\");\r\n",
    "\r\n",
    "        let container = d3\r\n",
    "            .select(sgvSelector)\r\n",
    "            .append(\"g\")\r\n",
    "            .style(\"filter\", \"url(#gooeyCodeFilter)\");\r\n",
    "\r\n",
    "        updateD3Rendering = () => interactive.csharp.getVariable(variableName)\r\n",
    "            .then(data => {\r\n",
    "                container\r\n",
    "                    .selectAll(\".points\")\r\n",
    "                    .data(data, (d, i) => i)\r\n",
    "                    .join(\r\n",
    "                        enter => enter.append(\"circle\")\r\n",
    "                            .attr(\"class\", \"points\")\r\n",
    "                            .attr(\"cy\", 80)\r\n",
    "                            .attr(\"cx\", (d, i) => ((i + 1) * 60))\r\n",
    "                            .transition()\r\n",
    "                            .duration(2000)\r\n",
    "                            .style(\"fill\", d => d3.interpolateTurbo(d / 80))\r\n",
    "                            .ease(d3.easeElasticOut.period(1.00))\r\n",
    "                            .attr(\"r\", d => Math.max(0, d)),\r\n",
    "                        update => update\r\n",
    "                            .transition()\r\n",
    "                            .duration(2000)                            \r\n",
    "                            .style(\"fill\", d => d3.interpolateTurbo(d / 80))\r\n",
    "                            .attr(\"r\", d => Math.max(0, d)),\r\n",
    "                        exit => exit\r\n",
    "                            .transition()\r\n",
    "                            .duration(1000)                            \r\n",
    "                            .attr(\"r\", 0 )\r\n",
    "                            .remove());\r\n",
    "            });\r\n",
    "        notebookScope.interval = setInterval(() => updateD3Rendering(), 1000);\r\n",
    "    });\r\n",
    "}"
   ],
   "outputs": [
    {
     "output_type": "error",
     "ename": "Error",
     "evalue": "System.TimeoutException: Timeout resolving the kernel's HTTP endpoint. Please try again.\r\n   at Microsoft.DotNet.Interactive.App.CommandLine.CommandLineParser.<>c__DisplayClass6_0.<SetUpFormatters>b__2(ScriptContent script, TextWriter writer) in F:\\workspace\\_work\\1\\s\\src\\dotnet-interactive\\CommandLine\\CommandLineParser.cs:line 526\r\n   at Microsoft.DotNet.Interactive.Formatting.Formatter.<>c__DisplayClass49_0`1.<Register>b__0(FormatContext context, Object value, TextWriter writer) in F:\\workspace\\_work\\1\\s\\src\\Microsoft.DotNet.Interactive.Formatting\\Formatter.cs:line 478\r\n   at Microsoft.DotNet.Interactive.Formatting.Formatter`1.FormatTo(FormatContext context, T obj, TextWriter writer, String mimeType) in F:\\workspace\\_work\\1\\s\\src\\Microsoft.DotNet.Interactive.Formatting\\Formatter{T}.cs:line 87\r\n   at Microsoft.DotNet.Interactive.Formatting.Formatter.FormatTo[T](T obj, FormatContext context, TextWriter writer, String mimeType) in F:\\workspace\\_work\\1\\s\\src\\Microsoft.DotNet.Interactive.Formatting\\Formatter.cs:line 298\r\n   at Microsoft.DotNet.Interactive.Formatting.Formatter.ToDisplayString(Object obj, String mimeType) in F:\\workspace\\_work\\1\\s\\src\\Microsoft.DotNet.Interactive.Formatting\\Formatter.cs:line 251\r\n   at Microsoft.DotNet.Interactive.KernelInvocationContextExtensions.Display(KernelInvocationContext context, Object value, String mimeType) in F:\\workspace\\_work\\1\\s\\src\\Microsoft.DotNet.Interactive\\KernelInvocationContextExtensions.cs:line 33\r\n   at Microsoft.DotNet.Interactive.JavaScriptKernel.HandleAsync(SubmitCode command, KernelInvocationContext context) in F:\\workspace\\_work\\1\\s\\src\\Microsoft.DotNet.Interactive\\JavaScriptKernel.cs:line 24\r\n   at Microsoft.DotNet.Interactive.Kernel.HandleAsync(KernelCommand command, KernelInvocationContext context) in F:\\workspace\\_work\\1\\s\\src\\Microsoft.DotNet.Interactive\\Kernel.cs:line 291\r\n   at Microsoft.DotNet.Interactive.KernelCommandPipeline.<BuildPipeline>b__6_0(KernelCommand command, KernelInvocationContext context, KernelPipelineContinuation _) in F:\\workspace\\_work\\1\\s\\src\\Microsoft.DotNet.Interactive\\KernelCommandPipeline.cs:line 57\r\n   at Microsoft.DotNet.Interactive.KernelCommandPipeline.<>c__DisplayClass6_1.<<BuildPipeline>b__3>d.MoveNext() in F:\\workspace\\_work\\1\\s\\src\\Microsoft.DotNet.Interactive\\KernelCommandPipeline.cs:line 74\r\n--- End of stack trace from previous location where exception was thrown ---\r\n   at Microsoft.DotNet.Interactive.CompositeKernel.LoadExtensions(KernelCommand command, KernelInvocationContext context, KernelPipelineContinuation next) in F:\\workspace\\_work\\1\\s\\src\\Microsoft.DotNet.Interactive\\CompositeKernel.cs:line 121\r\n   at Microsoft.DotNet.Interactive.KernelCommandPipeline.<>c__DisplayClass6_1.<<BuildPipeline>b__3>d.MoveNext() in F:\\workspace\\_work\\1\\s\\src\\Microsoft.DotNet.Interactive\\KernelCommandPipeline.cs:line 74\r\n--- End of stack trace from previous location where exception was thrown ---\r\n   at Microsoft.DotNet.Interactive.Kernel.<AddDirectiveMiddlewareAndCommonCommandHandlers>b__21_0(KernelCommand originalCommand, KernelInvocationContext context, KernelPipelineContinuation next) in F:\\workspace\\_work\\1\\s\\src\\Microsoft.DotNet.Interactive\\Kernel.cs:line 126\r\n   at Microsoft.DotNet.Interactive.KernelCommandPipeline.<>c__DisplayClass6_1.<<BuildPipeline>b__3>d.MoveNext() in F:\\workspace\\_work\\1\\s\\src\\Microsoft.DotNet.Interactive\\KernelCommandPipeline.cs:line 74\r\n--- End of stack trace from previous location where exception was thrown ---\r\n   at Microsoft.DotNet.Interactive.Kernel.SetKernel(KernelCommand command, KernelInvocationContext context, KernelPipelineContinuation next) in F:\\workspace\\_work\\1\\s\\src\\Microsoft.DotNet.Interactive\\Kernel.cs:line 218\r\n   at Microsoft.DotNet.Interactive.KernelCommandPipeline.<>c__DisplayClass6_1.<<BuildPipeline>b__3>d.MoveNext() in F:\\workspace\\_work\\1\\s\\src\\Microsoft.DotNet.Interactive\\KernelCommandPipeline.cs:line 74\r\n--- End of stack trace from previous location where exception was thrown ---\r\n   at Microsoft.DotNet.Interactive.Kernel.<>c.<<AddCaptureConsoleMiddleware>b__20_0>d.MoveNext() in F:\\workspace\\_work\\1\\s\\src\\Microsoft.DotNet.Interactive\\Kernel.cs:line 100\r\n--- End of stack trace from previous location where exception was thrown ---\r\n   at Microsoft.DotNet.Interactive.KernelCommandPipeline.<>c__DisplayClass6_0.<<BuildPipeline>g__Combine|2>d.MoveNext() in F:\\workspace\\_work\\1\\s\\src\\Microsoft.DotNet.Interactive\\KernelCommandPipeline.cs:line 70\r\n--- End of stack trace from previous location where exception was thrown ---\r\n   at Microsoft.DotNet.Interactive.KernelCommandPipeline.<>c__DisplayClass6_0.<<BuildPipeline>g__Combine|2>d.MoveNext() in F:\\workspace\\_work\\1\\s\\src\\Microsoft.DotNet.Interactive\\KernelCommandPipeline.cs:line 70\r\n--- End of stack trace from previous location where exception was thrown ---\r\n   at Microsoft.DotNet.Interactive.KernelCommandPipeline.<>c__DisplayClass6_0.<<BuildPipeline>g__Combine|2>d.MoveNext() in F:\\workspace\\_work\\1\\s\\src\\Microsoft.DotNet.Interactive\\KernelCommandPipeline.cs:line 70\r\n--- End of stack trace from previous location where exception was thrown ---\r\n   at Microsoft.DotNet.Interactive.KernelCommandPipeline.<>c__DisplayClass6_0.<<BuildPipeline>g__Combine|2>d.MoveNext() in F:\\workspace\\_work\\1\\s\\src\\Microsoft.DotNet.Interactive\\KernelCommandPipeline.cs:line 70\r\n--- End of stack trace from previous location where exception was thrown ---\r\n   at Microsoft.DotNet.Interactive.KernelCommandPipeline.SendAsync(KernelCommand command, KernelInvocationContext context) in F:\\workspace\\_work\\1\\s\\src\\Microsoft.DotNet.Interactive\\KernelCommandPipeline.cs:line 42",
     "traceback": []
    }
   ]
  },
  {
   "cell_type": "markdown",
   "metadata": {},
   "source": "Notice the `setInterval` call near the end of the previous cell. This rechecks the data in the kernel and updates the plot.\n\nBack on the kernel, we can now update the data so that the kernel can see it.\n\nYes, this is a contrived example, and we're planning to support true streaming data, but it's a start."
  },
  {
   "cell_type": "code",
   "execution_count": 1,
   "metadata": {},
   "source": [
    "#!html\r\n",
    "#!html\r\n",
    "<svg id=\"dataPlot1\" width=\"100%\"></svg>\r\n",
    "\r\n",
    "#!js\r\n",
    "notebookScope.plot(\"svg#dataPlot1\", \"a\");\r\n",
    "\r\n",
    "#!csharp\r\n",
    "for(var i = 0; i < 10; i++){\r\n",
    "    await Task.Delay(2000);\r\n",
    "    var limit = rnd.Next(4,12);\r\n",
    "    a = Enumerable.Range(1,limit).Select( t => rnd.Next(15, 80)).ToArray();\r\n",
    "}"
   ],
   "outputs": [
    {
     "output_type": "execute_result",
     "execution_count": 1,
     "data": {
      "text/html": [
       "\r\n",
       "<svg id=\"dataPlot1\" width=\"100%\"></svg>\r\n",
       "\r\n",
       ""
      ]
     },
     "metadata": {}
    },
    {
     "output_type": "error",
     "ename": "Error",
     "evalue": "System.TimeoutException: Timeout resolving the kernel's HTTP endpoint. Please try again.\r\n   at Microsoft.DotNet.Interactive.App.CommandLine.CommandLineParser.<>c__DisplayClass6_0.<SetUpFormatters>b__2(ScriptContent script, TextWriter writer) in F:\\workspace\\_work\\1\\s\\src\\dotnet-interactive\\CommandLine\\CommandLineParser.cs:line 526\r\n   at Microsoft.DotNet.Interactive.Formatting.Formatter.<>c__DisplayClass49_0`1.<Register>b__0(FormatContext context, Object value, TextWriter writer) in F:\\workspace\\_work\\1\\s\\src\\Microsoft.DotNet.Interactive.Formatting\\Formatter.cs:line 478\r\n   at Microsoft.DotNet.Interactive.Formatting.Formatter`1.FormatTo(FormatContext context, T obj, TextWriter writer, String mimeType) in F:\\workspace\\_work\\1\\s\\src\\Microsoft.DotNet.Interactive.Formatting\\Formatter{T}.cs:line 87\r\n   at Microsoft.DotNet.Interactive.Formatting.Formatter.FormatTo[T](T obj, FormatContext context, TextWriter writer, String mimeType) in F:\\workspace\\_work\\1\\s\\src\\Microsoft.DotNet.Interactive.Formatting\\Formatter.cs:line 298\r\n   at Microsoft.DotNet.Interactive.Formatting.Formatter.ToDisplayString(Object obj, String mimeType) in F:\\workspace\\_work\\1\\s\\src\\Microsoft.DotNet.Interactive.Formatting\\Formatter.cs:line 251\r\n   at Microsoft.DotNet.Interactive.KernelInvocationContextExtensions.Display(KernelInvocationContext context, Object value, String mimeType) in F:\\workspace\\_work\\1\\s\\src\\Microsoft.DotNet.Interactive\\KernelInvocationContextExtensions.cs:line 33\r\n   at Microsoft.DotNet.Interactive.JavaScriptKernel.HandleAsync(SubmitCode command, KernelInvocationContext context) in F:\\workspace\\_work\\1\\s\\src\\Microsoft.DotNet.Interactive\\JavaScriptKernel.cs:line 24\r\n   at Microsoft.DotNet.Interactive.Kernel.HandleAsync(KernelCommand command, KernelInvocationContext context) in F:\\workspace\\_work\\1\\s\\src\\Microsoft.DotNet.Interactive\\Kernel.cs:line 291\r\n   at Microsoft.DotNet.Interactive.KernelCommandPipeline.<BuildPipeline>b__6_0(KernelCommand command, KernelInvocationContext context, KernelPipelineContinuation _) in F:\\workspace\\_work\\1\\s\\src\\Microsoft.DotNet.Interactive\\KernelCommandPipeline.cs:line 57\r\n   at Microsoft.DotNet.Interactive.KernelCommandPipeline.<>c__DisplayClass6_1.<<BuildPipeline>b__3>d.MoveNext() in F:\\workspace\\_work\\1\\s\\src\\Microsoft.DotNet.Interactive\\KernelCommandPipeline.cs:line 74\r\n--- End of stack trace from previous location where exception was thrown ---\r\n   at Microsoft.DotNet.Interactive.CompositeKernel.LoadExtensions(KernelCommand command, KernelInvocationContext context, KernelPipelineContinuation next) in F:\\workspace\\_work\\1\\s\\src\\Microsoft.DotNet.Interactive\\CompositeKernel.cs:line 121\r\n   at Microsoft.DotNet.Interactive.KernelCommandPipeline.<>c__DisplayClass6_1.<<BuildPipeline>b__3>d.MoveNext() in F:\\workspace\\_work\\1\\s\\src\\Microsoft.DotNet.Interactive\\KernelCommandPipeline.cs:line 74\r\n--- End of stack trace from previous location where exception was thrown ---\r\n   at Microsoft.DotNet.Interactive.Kernel.<AddDirectiveMiddlewareAndCommonCommandHandlers>b__21_0(KernelCommand originalCommand, KernelInvocationContext context, KernelPipelineContinuation next) in F:\\workspace\\_work\\1\\s\\src\\Microsoft.DotNet.Interactive\\Kernel.cs:line 126\r\n   at Microsoft.DotNet.Interactive.KernelCommandPipeline.<>c__DisplayClass6_1.<<BuildPipeline>b__3>d.MoveNext() in F:\\workspace\\_work\\1\\s\\src\\Microsoft.DotNet.Interactive\\KernelCommandPipeline.cs:line 74\r\n--- End of stack trace from previous location where exception was thrown ---\r\n   at Microsoft.DotNet.Interactive.Kernel.SetKernel(KernelCommand command, KernelInvocationContext context, KernelPipelineContinuation next) in F:\\workspace\\_work\\1\\s\\src\\Microsoft.DotNet.Interactive\\Kernel.cs:line 218\r\n   at Microsoft.DotNet.Interactive.KernelCommandPipeline.<>c__DisplayClass6_1.<<BuildPipeline>b__3>d.MoveNext() in F:\\workspace\\_work\\1\\s\\src\\Microsoft.DotNet.Interactive\\KernelCommandPipeline.cs:line 74\r\n--- End of stack trace from previous location where exception was thrown ---\r\n   at Microsoft.DotNet.Interactive.Kernel.<>c.<<AddCaptureConsoleMiddleware>b__20_0>d.MoveNext() in F:\\workspace\\_work\\1\\s\\src\\Microsoft.DotNet.Interactive\\Kernel.cs:line 100\r\n--- End of stack trace from previous location where exception was thrown ---\r\n   at Microsoft.DotNet.Interactive.KernelCommandPipeline.<>c__DisplayClass6_0.<<BuildPipeline>g__Combine|2>d.MoveNext() in F:\\workspace\\_work\\1\\s\\src\\Microsoft.DotNet.Interactive\\KernelCommandPipeline.cs:line 70\r\n--- End of stack trace from previous location where exception was thrown ---\r\n   at Microsoft.DotNet.Interactive.KernelCommandPipeline.<>c__DisplayClass6_0.<<BuildPipeline>g__Combine|2>d.MoveNext() in F:\\workspace\\_work\\1\\s\\src\\Microsoft.DotNet.Interactive\\KernelCommandPipeline.cs:line 70\r\n--- End of stack trace from previous location where exception was thrown ---\r\n   at Microsoft.DotNet.Interactive.KernelCommandPipeline.<>c__DisplayClass6_0.<<BuildPipeline>g__Combine|2>d.MoveNext() in F:\\workspace\\_work\\1\\s\\src\\Microsoft.DotNet.Interactive\\KernelCommandPipeline.cs:line 70\r\n--- End of stack trace from previous location where exception was thrown ---\r\n   at Microsoft.DotNet.Interactive.KernelCommandPipeline.<>c__DisplayClass6_0.<<BuildPipeline>g__Combine|2>d.MoveNext() in F:\\workspace\\_work\\1\\s\\src\\Microsoft.DotNet.Interactive\\KernelCommandPipeline.cs:line 70\r\n--- End of stack trace from previous location where exception was thrown ---\r\n   at Microsoft.DotNet.Interactive.KernelCommandPipeline.SendAsync(KernelCommand command, KernelInvocationContext context) in F:\\workspace\\_work\\1\\s\\src\\Microsoft.DotNet.Interactive\\KernelCommandPipeline.cs:line 42",
     "traceback": []
    }
   ]
  },
  {
   "cell_type": "code",
   "execution_count": 1,
   "metadata": {},
   "source": [
    "display(a);"
   ],
   "outputs": [
    {
     "output_type": "execute_result",
     "execution_count": 1,
     "data": {
      "text/html": [
       "<table><thead><tr><th><i>index</i></th><th>value</th></tr></thead><tbody><tr><td>0</td><td><div class=\"dni-plaintext\">5</div></td></tr><tr><td>1</td><td><div class=\"dni-plaintext\">7</div></td></tr><tr><td>2</td><td><div class=\"dni-plaintext\">22</div></td></tr><tr><td>3</td><td><div class=\"dni-plaintext\">15</div></td></tr><tr><td>4</td><td><div class=\"dni-plaintext\">8</div></td></tr></tbody></table>"
      ]
     },
     "metadata": {}
    }
   ]
  },
  {
   "cell_type": "code",
   "execution_count": 1,
   "metadata": {},
   "source": [
    "#!javascript\r\n",
    "interactive.csharp.getVariable('a').then(data => { return alert('a is ' + data); });"
   ],
   "outputs": []
  }
 ],
 "metadata": {
  "kernelspec": {
   "display_name": ".NET (C#)",
   "language": "C#",
   "name": ".net-csharp"
  },
  "language_info": {
   "file_extension": ".cs",
   "mimetype": "text/x-csharp",
   "name": "C#",
   "pygments_lexer": "csharp",
   "version": "8.0"
  }
 },
 "nbformat": 4,
 "nbformat_minor": 4
}