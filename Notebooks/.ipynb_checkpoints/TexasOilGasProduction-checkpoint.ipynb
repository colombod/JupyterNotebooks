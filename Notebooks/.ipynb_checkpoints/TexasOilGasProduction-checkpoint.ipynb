{
 "cells": [
  {
   "cell_type": "code",
   "execution_count": 10,
   "metadata": {},
   "outputs": [],
   "source": [
    "#r \"nuget:VegaLite.NET,1.0.4\"\n",
    "#r \"nuget:OilGas.Data,1.0.5\"    "
   ]
  },
  {
   "cell_type": "code",
   "execution_count": 13,
   "metadata": {},
   "outputs": [
    {
     "ename": "Unhandled Exception",
     "evalue": "error CS0518: Predefined type 'System.Object' is not defined or imported\r\nerror CS0518: Predefined type 'System.Object' is not defined or imported\r\nerror CS0518: Predefined type 'System.Object' is not defined or imported\r\nerror CS0518: Predefined type 'System.Void' is not defined or imported\r\nerror CS0518: Predefined type 'System.Void' is not defined or imported\r\nerror CS0518: Predefined type 'System.Boolean' is not defined or imported\r\nerror CS0518: Predefined type 'System.Void' is not defined or imported\r\nerror CS0518: Predefined type 'System.Void' is not defined or imported\r\nerror CS0518: Predefined type 'System.Boolean' is not defined or imported\r\n(1,1): error CS0518: Predefined type 'System.Object' is not defined or imported",
     "output_type": "error",
     "traceback": [
      "error CS0518: Predefined type 'System.Object' is not defined or imported\r\nerror CS0518: Predefined type 'System.Object' is not defined or imported\r\nerror CS0518: Predefined type 'System.Object' is not defined or imported\r\nerror CS0518: Predefined type 'System.Void' is not defined or imported\r\nerror CS0518: Predefined type 'System.Void' is not defined or imported\r\nerror CS0518: Predefined type 'System.Boolean' is not defined or imported\r\nerror CS0518: Predefined type 'System.Void' is not defined or imported\r\nerror CS0518: Predefined type 'System.Void' is not defined or imported\r\nerror CS0518: Predefined type 'System.Boolean' is not defined or imported\r\n(1,1): error CS0518: Predefined type 'System.Object' is not defined or imported"
     ]
    }
   ],
   "source": [
    "using System;\n",
    "using System.Collections;\n",
    "using System.Collections.Concurrent;\n",
    "using System.Collections.Generic;\n",
    "using System.Data;\n",
    "using System.Diagnostics;\n",
    "using System.IO;\n",
    "using System.Linq;\n",
    "using System.Linq.Expressions;\n",
    "using System.Reflection;\n",
    "\n",
    "\n",
    "using VegaLite;\n",
    "using OilGas.Data;\n",
    "using OilGas.Data.RRC.Texas;"
   ]
  },
  {
   "cell_type": "code",
   "execution_count": 9,
   "metadata": {},
   "outputs": [
    {
     "ename": "Unhandled Exception",
     "evalue": "Could not load file or assembly 'Microsoft.Bcl.AsyncInterfaces, Version=1.0.0.0, Culture=neutral, PublicKeyToken=cc7b13ffcd2ddd51'. Reference assemblies should not be loaded for execution.  They can only be loaded in the Reflection-only loader context. (0x80131058)",
     "output_type": "error",
     "traceback": [
      "Unhandled Exception",
      "Could not load file or assembly 'Microsoft.Bcl.AsyncInterfaces, Version=1.0.0.0, Culture=neutral, PublicKeyToken=cc7b13ffcd2ddd51'. Reference assemblies should not be loaded for execution.  They can only be loaded in the Reflection-only loader context. (0x80131058)",
      "   at Submission#8.<<Initialize>>d__0.MoveNext()",
      "--- End of stack trace from previous location where exception was thrown ---",
      "   at Microsoft.CodeAnalysis.Scripting.ScriptExecutionState.RunSubmissionsAsync[TResult](ImmutableArray`1 precedingExecutors, Func`2 currentExecutor, StrongBox`1 exceptionHolderOpt, Func`2 catchExceptionOpt, CancellationToken cancellationToken)"
     ]
    }
   ],
   "source": [
    "ApiNumber api = \"42-285-33615\";\n",
    "\n",
    "RrcTexasDataAdapter.Initialize();\n",
    "\n",
    "WellProduction wellProduction = RrcTexasDataAdapter.GetProductionByApi(api).Result;\n",
    "\n",
    "Chart chart = wellProduction.BuildChart();"
   ]
  },
  {
   "cell_type": "code",
   "execution_count": 4,
   "metadata": {},
   "outputs": [
    {
     "data": {
      "text/html": [
       "<null>"
      ]
     },
     "execution_count": 4,
     "metadata": {},
     "output_type": "execute_result"
    }
   ],
   "source": [
    "chart"
   ]
  },
  {
   "cell_type": "code",
   "execution_count": null,
   "metadata": {},
   "outputs": [],
   "source": []
  }
 ],
 "metadata": {
  "kernelspec": {
   "display_name": ".NET (C#)",
   "language": "C#",
   "name": ".net-csharp"
  },
  "language_info": {
   "file_extension": ".cs",
   "mimetype": "text/x-csharp",
   "name": "C#",
   "pygments_lexer": "csharp",
   "version": "8.0"
  }
 },
 "nbformat": 4,
 "nbformat_minor": 4
}
