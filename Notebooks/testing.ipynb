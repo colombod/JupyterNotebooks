{
 "cells": [
  {
   "cell_type": "code",
   "execution_count": 1,
   "metadata": {},
   "outputs": [
    {
     "data": {
      "text/html": [
       "<script type=\"text/javascript\">#!javascript\r\n",
       "if ((typeof(requirejs) !==  typeof(Function)) || (typeof(requirejs.config) !== typeof(Function))) { \r\n",
       "    let script = document.createElement(\"script\"); \r\n",
       "    script.setAttribute(\"src\", \"https://cdnjs.cloudflare.com/ajax/libs/require.js/2.3.6/require.min.js\"); \r\n",
       "    script.onload = function(){\r\n",
       "        loadDotnetInteractiveApi();\r\n",
       "    };\r\n",
       "    document.getElementsByTagName(\"head\")[0].appendChild(script); \r\n",
       "}\r\n",
       "else {\r\n",
       "    loadDotnetInteractiveApi();\r\n",
       "}\r\n",
       "\r\n",
       "function loadDotnetInteractiveApi(){\r\n",
       "    let apiRequire = requirejs.config({context:\"dotnet-interactive.9404.4366\",paths:{dotnetInteractive:\"http://localhost:4366/resources/dotnet-interactive\"}});\r\n",
       "    apiRequire(['dotnetInteractive'], \r\n",
       "    function(api) {       \r\n",
       "        api.createDotnetInteractiveClient(\"http://localhost:4366/\", window);\r\n",
       "    },\r\n",
       "    function(error){\r\n",
       "        console.log(error);\r\n",
       "    });\r\n",
       "}</script>"
      ]
     },
     "metadata": {},
     "output_type": "display_data"
    },
    {
     "data": {
      "text/html": [
       "Installed package AngleSharp version 0.13.0"
      ]
     },
     "metadata": {},
     "output_type": "display_data"
    },
    {
     "data": {
      "text/html": [
       "Installed package Newtonsoft.Json version 12.0.3"
      ]
     },
     "metadata": {},
     "output_type": "display_data"
    },
    {
     "data": {
      "text/html": [
       "Installed package VegaLite.NET version 1.3.2"
      ]
     },
     "metadata": {},
     "output_type": "display_data"
    }
   ],
   "source": [
    "#r \"nuget:AngleSharp\"\n",
    "#r \"nuget:Newtonsoft.Json\"\n",
    "#r \"nuget:VegaLite.NET\""
   ]
  },
  {
   "cell_type": "code",
   "execution_count": 2,
   "metadata": {},
   "outputs": [],
   "source": [
    "using System;\n",
    "using System.Collections.Generic;\n",
    "using System.Runtime.Serialization;\n",
    "using Newtonsoft.Json;\n",
    "using Newtonsoft.Json.Serialization;\n",
    "using VegaLite;"
   ]
  },
  {
   "cell_type": "code",
   "execution_count": 3,
   "metadata": {},
   "outputs": [],
   "source": [
    "public struct VegaViewData\n",
    "{\n",
    "    [JsonProperty(\"API\", NamingStrategyType = typeof(DefaultNamingStrategy))]\n",
    "    public string API  { get; set; }\n",
    "    [JsonProperty(\"Day\", NamingStrategyType = typeof(DefaultNamingStrategy))]\n",
    "    public double Day  { get; set; }\n",
    "    [JsonProperty(\"Type\", NamingStrategyType = typeof(DefaultNamingStrategy))]\n",
    "    public string Type { get; set; }\n",
    "    [JsonProperty(\"Rate\", NamingStrategyType = typeof(DefaultNamingStrategy))]\n",
    "    public double Rate { get; set; }\n",
    "\n",
    "    public VegaViewData(string api,\n",
    "                        double day,\n",
    "                        string type,\n",
    "                        double rate)\n",
    "    {\n",
    "        API = api;\n",
    "        Day = day;\n",
    "        Type = type;\n",
    "        Rate = rate;\n",
    "    }\n",
    "}"
   ]
  },
  {
   "cell_type": "code",
   "execution_count": 4,
   "metadata": {},
   "outputs": [],
   "source": [
    "VegaViewData[] vegaViewData = new List<VegaViewData>()\n",
    "{\n",
    "    new VegaViewData(\"##-###-#####\",1.0,\"Actual\",280.51724137931035),new VegaViewData(\"##-###-#####\",2.0,\"Actual\",691.5172413793103),new VegaViewData(\"##-###-#####\",3.0,\"Actual\",1336.5172413793102),new VegaViewData(\"##-###-#####\",4.0,\"Actual\",1391.4172413793103),new VegaViewData(\"##-###-#####\",5.0,\"Actual\",1316.2172413793105),new VegaViewData(\"##-###-#####\",6.0,\"Actual\",1275.3872413793101),new VegaViewData(\"##-###-#####\",7.0,\"Actual\",1339.7672413793102),new VegaViewData(\"##-###-#####\",8.0,\"Actual\",1715.2865517241378),new VegaViewData(\"##-###-#####\",9.0,\"Actual\",1995.65),new VegaViewData(\"##-###-#####\",10.0,\"Actual\",1757.1662068965516),new VegaViewData(\"##-###-#####\",11.0,\"Actual\",1714.0844827586207),new VegaViewData(\"##-###-#####\",12.0,\"Actual\",1490.5651724137929),new VegaViewData(\"##-###-#####\",13.0,\"Actual\",1543.6537931034484),new VegaViewData(\"##-###-#####\",14.0,\"Actual\",1581.0941379310343),new VegaViewData(\"##-###-#####\",15.0,\"Actual\",1588.4506896551723),new VegaViewData(\"##-###-#####\",16.0,\"Actual\",1499.3837931034484),new VegaViewData(\"##-###-#####\",17.0,\"Actual\",1553.005172413793),new VegaViewData(\"##-###-#####\",18.0,\"Actual\",1529.0706896551724),new VegaViewData(\"##-###-#####\",19.0,\"Actual\",1405.986551724138),new VegaViewData(\"##-###-#####\",20.0,\"Actual\",1363.6072413793104),new VegaViewData(\"##-###-#####\",21.0,\"Actual\",1262.5103448275863),new VegaViewData(\"##-###-#####\",22.0,\"Actual\",1224.0679310344826),new VegaViewData(\"##-###-#####\",23.0,\"Actual\",1225.2134482758622),new VegaViewData(\"##-###-#####\",24.0,\"Actual\",1171.863448275862),new VegaViewData(\"##-###-#####\",25.0,\"Actual\",1152.3672413793101),new VegaViewData(\"##-###-#####\",26.0,\"Actual\",1093.0206896551724),new VegaViewData(\"##-###-#####\",27.0,\"Actual\",1093.871379310345),new VegaViewData(\"##-###-#####\",28.0,\"Actual\",1124.1062068965516),new VegaViewData(\"##-###-#####\",29.0,\"Actual\",1064.4989655172412),new VegaViewData(\"##-###-#####\",30.0,\"Actual\",1001.3689655172413),new VegaViewData(\"##-###-#####\",31.0,\"Actual\",964.7772413793103),new VegaViewData(\"##-###-#####\",32.0,\"Actual\",939.2848275862069),new VegaViewData(\"##-###-#####\",33.0,\"Actual\",925.7072413793104),new VegaViewData(\"##-###-#####\",34.0,\"Actual\",964.56),new VegaViewData(\"##-###-#####\",35.0,\"Actual\",900.3720689655172),new VegaViewData(\"##-###-#####\",36.0,\"Actual\",963.2882758620689),new VegaViewData(\"##-###-#####\",37.0,\"Actual\",904.4734482758621),new VegaViewData(\"##-###-#####\",38.0,\"Actual\",903.9796551724138),new VegaViewData(\"##-###-#####\",39.0,\"Actual\",875.2172413793104),new VegaViewData(\"##-###-#####\",40.0,\"Actual\",807.8434482758621),new VegaViewData(\"##-###-#####\",41.0,\"Actual\",873.9244827586207),new VegaViewData(\"##-###-#####\",42.0,\"Actual\",870.831724137931),new VegaViewData(\"##-###-#####\",43.0,\"Actual\",797.2489655172415),new VegaViewData(\"##-###-#####\",44.0,\"Actual\",787.8537931034483),new VegaViewData(\"##-###-#####\",45.0,\"Actual\",752.8534482758621),new VegaViewData(\"##-###-#####\",46.0,\"Actual\",647.0982758620689),new VegaViewData(\"##-###-#####\",47.0,\"Actual\",814.1565517241379),new VegaViewData(\"##-###-#####\",48.0,\"Actual\",664.97),new VegaViewData(\"##-###-#####\",49.0,\"Actual\",685.3151724137932),new VegaViewData(\"##-###-#####\",50.0,\"Actual\",743.7024137931035),new VegaViewData(\"##-###-#####\",51.0,\"Actual\",722.8972413793103),new VegaViewData(\"##-###-#####\",52.0,\"Actual\",743.291724137931),new VegaViewData(\"##-###-#####\",53.0,\"Actual\",683.1786206896552),new VegaViewData(\"##-###-#####\",54.0,\"Actual\",635.5079310344828),new VegaViewData(\"##-###-#####\",55.0,\"Actual\",629.658275862069),new VegaViewData(\"##-###-#####\",56.0,\"Actual\",640.6393103448275),new VegaViewData(\"##-###-#####\",57.0,\"Actual\",639.9817241379311),new VegaViewData(\"##-###-#####\",58.0,\"Actual\",645.3796551724139),new VegaViewData(\"##-###-#####\",59.0,\"Actual\",671.9613793103449),new VegaViewData(\"##-###-#####\",60.0,\"Actual\",722.2475862068966),new VegaViewData(\"##-###-#####\",61.0,\"Actual\",667.328620689655),new VegaViewData(\"##-###-#####\",62.0,\"Actual\",615.588620689655),new VegaViewData(\"##-###-#####\",63.0,\"Actual\",648.4493103448275),new VegaViewData(\"##-###-#####\",64.0,\"Actual\",620.6334482758621),new VegaViewData(\"##-###-#####\",65.0,\"Actual\",640.9768965517242),new VegaViewData(\"##-###-#####\",66.0,\"Actual\",532.3906896551724),new VegaViewData(\"##-###-#####\",67.0,\"Actual\",588.7486206896551),new VegaViewData(\"##-###-#####\",68.0,\"Actual\",673.6427586206897),new VegaViewData(\"##-###-#####\",69.0,\"Actual\",566.2744827586207),new VegaViewData(\"##-###-#####\",70.0,\"Actual\",552.903448275862),new VegaViewData(\"##-###-#####\",71.0,\"Actual\",502.15862068965515),new VegaViewData(\"##-###-#####\",72.0,\"Actual\",508.87827586206896),new VegaViewData(\"##-###-#####\",73.0,\"Actual\",462.50275862068963),new VegaViewData(\"##-###-#####\",74.0,\"Actual\",455.1955172413793),new VegaViewData(\"##-###-#####\",75.0,\"Actual\",416.2444827586207),new VegaViewData(\"##-###-#####\",76.0,\"Actual\",443.56172413793104),new VegaViewData(\"##-###-#####\",77.0,\"Actual\",457.7024137931034),new VegaViewData(\"##-###-#####\",78.0,\"Actual\",447.36413793103446),new VegaViewData(\"##-###-#####\",79.0,\"Actual\",433.50689655172414),new VegaViewData(\"##-###-#####\",80.0,\"Actual\",452.21172413793107),new VegaViewData(\"##-###-#####\",81.0,\"Actual\",441.0144827586207),new VegaViewData(\"##-###-#####\",82.0,\"Actual\",438.1520689655173),new VegaViewData(\"##-###-#####\",83.0,\"Actual\",432.46724137931034),new VegaViewData(\"##-###-#####\",84.0,\"Actual\",621.1710344827586),new VegaViewData(\"##-###-#####\",85.0,\"Actual\",658.9341379310346),new VegaViewData(\"##-###-#####\",86.0,\"Actual\",607.4920689655172),new VegaViewData(\"##-###-#####\",87.0,\"Actual\",602.9531034482759),new VegaViewData(\"##-###-#####\",88.0,\"Actual\",562.7348275862068),new VegaViewData(\"##-###-#####\",89.0,\"Actual\",571.6103448275861),new VegaViewData(\"##-###-#####\",90.0,\"Actual\",521.5062068965517),new VegaViewData(\"##-###-#####\",91.0,\"Actual\",489.8824137931034),new VegaViewData(\"##-###-#####\",92.0,\"Actual\",497.07482758620694),new VegaViewData(\"##-###-#####\",93.0,\"Actual\",481.1875862068966),new VegaViewData(\"##-###-#####\",94.0,\"Actual\",491.22275862068966),new VegaViewData(\"##-###-#####\",95.0,\"Actual\",458.9603448275862),new VegaViewData(\"##-###-#####\",96.0,\"Actual\",476.9755172413793),new VegaViewData(\"##-###-#####\",97.0,\"Actual\",461.89620689655175),new VegaViewData(\"##-###-#####\",98.0,\"Actual\",446.93379310344824),new VegaViewData(\"##-###-#####\",99.0,\"Actual\",451.11655172413793),new VegaViewData(\"##-###-#####\",100.0,\"Actual\",444.2193103448276),new VegaViewData(\"##-###-#####\",101.0,\"Actual\",469.00931034482755),new VegaViewData(\"##-###-#####\",102.0,\"Actual\",435.2944827586207),new VegaViewData(\"##-###-#####\",103.0,\"Actual\",451.0420689655173),new VegaViewData(\"##-###-#####\",104.0,\"Actual\",436.62793103448274),new VegaViewData(\"##-###-#####\",105.0,\"Actual\",419.5458620689655),new VegaViewData(\"##-###-#####\",106.0,\"Actual\",434.31482758620695),new VegaViewData(\"##-###-#####\",107.0,\"Actual\",413.47),new VegaViewData(\"##-###-#####\",108.0,\"Actual\",416.48517241379307),new VegaViewData(\"##-###-#####\",109.0,\"Actual\",417.7606896551724),new VegaViewData(\"##-###-#####\",110.0,\"Actual\",400.49586206896555),new VegaViewData(\"##-###-#####\",111.0,\"Actual\",407.2134482758621),new VegaViewData(\"##-###-#####\",112.0,\"Actual\",407.2334482758621),new VegaViewData(\"##-###-#####\",113.0,\"Actual\",431.0686206896552),new VegaViewData(\"##-###-#####\",114.0,\"Actual\",396.6813793103448),new VegaViewData(\"##-###-#####\",115.0,\"Actual\",404.1189655172414),new VegaViewData(\"##-###-#####\",116.0,\"Actual\",422.84896551724137),new VegaViewData(\"##-###-#####\",117.0,\"Actual\",395.75931034482755),new VegaViewData(\"##-###-#####\",118.0,\"Actual\",398.11931034482757),new VegaViewData(\"##-###-#####\",119.0,\"Actual\",380.37448275862073),new VegaViewData(\"##-###-#####\",120.0,\"Actual\",380.57965517241377),new VegaViewData(\"##-###-#####\",121.0,\"Actual\",382.74724137931037),new VegaViewData(\"##-###-#####\",122.0,\"Actual\",382.87),new VegaViewData(\"##-###-#####\",123.0,\"Actual\",378.1875862068966),new VegaViewData(\"##-###-#####\",124.0,\"Actual\",376.3451724137931),new VegaViewData(\"##-###-#####\",125.0,\"Actual\",383.9851724137931),new VegaViewData(\"##-###-#####\",126.0,\"Actual\",423.42137931034483),new VegaViewData(\"##-###-#####\",127.0,\"Actual\",415.1786206896552),new VegaViewData(\"##-###-#####\",128.0,\"Actual\",399.13413793103445),new VegaViewData(\"##-###-#####\",129.0,\"Actual\",438.10068965517246),new VegaViewData(\"##-###-#####\",130.0,\"Actual\",448.44586206896554),new VegaViewData(\"##-###-#####\",131.0,\"Actual\",409.1089655172414),new VegaViewData(\"##-###-#####\",1.0,\"Simulated\",3385.653031759629),new VegaViewData(\"##-###-#####\",2.0,\"Simulated\",2860.142695744137),new VegaViewData(\"##-###-#####\",3.0,\"Simulated\",2589.8935768088877),new VegaViewData(\"##-###-#####\",4.0,\"Simulated\",2410.1319948087544),new VegaViewData(\"##-###-#####\",5.0,\"Simulated\",2272.281066193681),new VegaViewData(\"##-###-#####\",6.0,\"Simulated\",2158.9606020927845),new VegaViewData(\"##-###-#####\",7.0,\"Simulated\",2058.099696923838),new VegaViewData(\"##-###-#####\",8.0,\"Simulated\",1967.3263832210368),new VegaViewData(\"##-###-#####\",9.0,\"Simulated\",1888.7559318476053),new VegaViewData(\"##-###-#####\",10.0,\"Simulated\",1812.8542098290668),new VegaViewData(\"##-###-#####\",11.0,\"Simulated\",1741.0646877304623),new VegaViewData(\"##-###-#####\",12.0,\"Simulated\",1675.8600631031659),new VegaViewData(\"##-###-#####\",13.0,\"Simulated\",1616.7913313085971),new VegaViewData(\"##-###-#####\",14.0,\"Simulated\",1562.9005952937473),new VegaViewData(\"##-###-#####\",15.0,\"Simulated\",1512.9861375432945),new VegaViewData(\"##-###-#####\",16.0,\"Simulated\",1465.5909241922395),new VegaViewData(\"##-###-#####\",17.0,\"Simulated\",1420.2454569752342),new VegaViewData(\"##-###-#####\",18.0,\"Simulated\",1376.9897544488738),new VegaViewData(\"##-###-#####\",19.0,\"Simulated\",1335.6875044498745),new VegaViewData(\"##-###-#####\",20.0,\"Simulated\",1296.4569820854904),new VegaViewData(\"##-###-#####\",21.0,\"Simulated\",1259.7660978603387),new VegaViewData(\"##-###-#####\",22.0,\"Simulated\",1225.8312256311858),new VegaViewData(\"##-###-#####\",23.0,\"Simulated\",1194.5824949972155),new VegaViewData(\"##-###-#####\",24.0,\"Simulated\",1165.858145883228),new VegaViewData(\"##-###-#####\",25.0,\"Simulated\",1139.4497227645202),new VegaViewData(\"##-###-#####\",26.0,\"Simulated\",1115.0873127871596),new VegaViewData(\"##-###-#####\",27.0,\"Simulated\",1092.451876576308),new VegaViewData(\"##-###-#####\",28.0,\"Simulated\",1071.176627515245),new VegaViewData(\"##-###-#####\",29.0,\"Simulated\",1050.871038256046),new VegaViewData(\"##-###-#####\",30.0,\"Simulated\",1031.168864720826),new VegaViewData(\"##-###-#####\",31.0,\"Simulated\",1011.8110288266415),new VegaViewData(\"##-###-#####\",32.0,\"Simulated\",992.749498237783),new VegaViewData(\"##-###-#####\",33.0,\"Simulated\",974.0936280546399),new VegaViewData(\"##-###-#####\",34.0,\"Simulated\",955.9626756453326),new VegaViewData(\"##-###-#####\",35.0,\"Simulated\",938.4214274539693),new VegaViewData(\"##-###-#####\",36.0,\"Simulated\",921.4897698263893),new VegaViewData(\"##-###-#####\",37.0,\"Simulated\",905.1652347629425),new VegaViewData(\"##-###-#####\",38.0,\"Simulated\",889.434743692923),new VegaViewData(\"##-###-#####\",39.0,\"Simulated\",874.2823897037176),new VegaViewData(\"##-###-#####\",40.0,\"Simulated\",859.692247656633),new VegaViewData(\"##-###-#####\",41.0,\"Simulated\",845.6459278296646),new VegaViewData(\"##-###-#####\",42.0,\"Simulated\",832.1250771900033),new VegaViewData(\"##-###-#####\",43.0,\"Simulated\",819.1105451802897),new VegaViewData(\"##-###-#####\",44.0,\"Simulated\",806.5810226860616),new VegaViewData(\"##-###-#####\",45.0,\"Simulated\",794.514475527713),new VegaViewData(\"##-###-#####\",46.0,\"Simulated\",782.8889550036005),new VegaViewData(\"##-###-#####\",47.0,\"Simulated\",771.6817018708116),new VegaViewData(\"##-###-#####\",48.0,\"Simulated\",760.8693134596393),new VegaViewData(\"##-###-#####\",49.0,\"Simulated\",750.4284750935386),new VegaViewData(\"##-###-#####\",50.0,\"Simulated\",740.3382319647167),new VegaViewData(\"##-###-#####\",51.0,\"Simulated\",730.5837281701004),new VegaViewData(\"##-###-#####\",52.0,\"Simulated\",721.1552109326782),new VegaViewData(\"##-###-#####\",53.0,\"Simulated\",712.0414957052374),new VegaViewData(\"##-###-#####\",54.0,\"Simulated\",703.2274289878537),new VegaViewData(\"##-###-#####\",55.0,\"Simulated\",694.6951597818771),new VegaViewData(\"##-###-#####\",56.0,\"Simulated\",686.424985369958),new VegaViewData(\"##-###-#####\",57.0,\"Simulated\",678.3947494874112),new VegaViewData(\"##-###-#####\",58.0,\"Simulated\",670.579468663986),new VegaViewData(\"##-###-#####\",59.0,\"Simulated\",662.9535447293721),new VegaViewData(\"##-###-#####\",60.0,\"Simulated\",655.4943215059045),new VegaViewData(\"##-###-#####\",61.0,\"Simulated\",648.1868637792459),new VegaViewData(\"##-###-#####\",62.0,\"Simulated\",641.0282347910644),new VegaViewData(\"##-###-#####\",63.0,\"Simulated\",634.025784190688),new VegaViewData(\"##-###-#####\",64.0,\"Simulated\",627.1903296684648),new VegaViewData(\"##-###-#####\",65.0,\"Simulated\",620.5308354373752),new VegaViewData(\"##-###-#####\",66.0,\"Simulated\",614.0527978087471),new VegaViewData(\"##-###-#####\",67.0,\"Simulated\",607.7580336491902),new VegaViewData(\"##-###-#####\",68.0,\"Simulated\",601.6446298322244),new VegaViewData(\"##-###-#####\",69.0,\"Simulated\",595.7073754059601),new VegaViewData(\"##-###-#####\",70.0,\"Simulated\",589.9387326022625),new VegaViewData(\"##-###-#####\",71.0,\"Simulated\",584.3299296285528),new VegaViewData(\"##-###-#####\",72.0,\"Simulated\",578.8714225079025),new VegaViewData(\"##-###-#####\",73.0,\"Simulated\",573.5522707101682),new VegaViewData(\"##-###-#####\",74.0,\"Simulated\",568.359113477507),new VegaViewData(\"##-###-#####\",75.0,\"Simulated\",563.275977800231),new VegaViewData(\"##-###-#####\",76.0,\"Simulated\",558.2855119838997),new VegaViewData(\"##-###-#####\",77.0,\"Simulated\",553.3711313135605),new VegaViewData(\"##-###-#####\",78.0,\"Simulated\",548.5187627466465),new VegaViewData(\"##-###-#####\",79.0,\"Simulated\",543.7172211616356),new VegaViewData(\"##-###-#####\",80.0,\"Simulated\",538.9573867326462),new VegaViewData(\"##-###-#####\",81.0,\"Simulated\",534.2311133394368),new VegaViewData(\"##-###-#####\",82.0,\"Simulated\",529.530677550363),new VegaViewData(\"##-###-#####\",83.0,\"Simulated\",524.848934531839),new VegaViewData(\"##-###-#####\",84.0,\"Simulated\",520.1799526657965),new VegaViewData(\"##-###-#####\",85.0,\"Simulated\",515.5197721112074),new VegaViewData(\"##-###-#####\",86.0,\"Simulated\",510.8668373359399),new VegaViewData(\"##-###-#####\",87.0,\"Simulated\",506.2218817474353),new VegaViewData(\"##-###-#####\",88.0,\"Simulated\",501.5873892238552),new VegaViewData(\"##-###-#####\",89.0,\"Simulated\",496.9668528861871),new VegaViewData(\"##-###-#####\",90.0,\"Simulated\",492.3640330015441),new VegaViewData(\"##-###-#####\",91.0,\"Simulated\",487.78240484972196),new VegaViewData(\"##-###-#####\",92.0,\"Simulated\",483.22487901014574),new VegaViewData(\"##-###-#####\",93.0,\"Simulated\",478.6937700299449),new VegaViewData(\"##-###-#####\",94.0,\"Simulated\",474.1909118984074),new VegaViewData(\"##-###-#####\",95.0,\"Simulated\",469.7177880082405),new VegaViewData(\"##-###-#####\",96.0,\"Simulated\",465.27563401601617),new VegaViewData(\"##-###-#####\",97.0,\"Simulated\",460.86554961992226),new VegaViewData(\"##-###-#####\",98.0,\"Simulated\",456.48862821340566),new VegaViewData(\"##-###-#####\",99.0,\"Simulated\",452.1460364158983),new VegaViewData(\"##-###-#####\",100.0,\"Simulated\",447.8389442429914),new VegaViewData(\"##-###-#####\",101.0,\"Simulated\",443.56831413587776),new VegaViewData(\"##-###-#####\",102.0,\"Simulated\",439.3347030942092),new VegaViewData(\"##-###-#####\",103.0,\"Simulated\",435.1382195712372),new VegaViewData(\"##-###-#####\",104.0,\"Simulated\",430.97864050351023),new VegaViewData(\"##-###-#####\",105.0,\"Simulated\",426.8556030083277),new VegaViewData(\"##-###-#####\",106.0,\"Simulated\",422.7687866738485),new VegaViewData(\"##-###-#####\",107.0,\"Simulated\",418.7180438099082),new VegaViewData(\"##-###-#####\",108.0,\"Simulated\",414.70347444550964),new VegaViewData(\"##-###-#####\",109.0,\"Simulated\",410.7254541948499),new VegaViewData(\"##-###-#####\",110.0,\"Simulated\",406.7846054797985),new VegaViewData(\"##-###-#####\",111.0,\"Simulated\",402.88170606104785),new VegaViewData(\"##-###-#####\",112.0,\"Simulated\",399.01757967829565),new VegaViewData(\"##-###-#####\",113.0,\"Simulated\",395.1930402520451),new VegaViewData(\"##-###-#####\",114.0,\"Simulated\",391.40890502378994),new VegaViewData(\"##-###-#####\",115.0,\"Simulated\",387.66601379634034),new VegaViewData(\"##-###-#####\",116.0,\"Simulated\",383.9651760068833),new VegaViewData(\"##-###-#####\",117.0,\"Simulated\",380.3070253962728),new VegaViewData(\"##-###-#####\",118.0,\"Simulated\",376.69184439895514),new VegaViewData(\"##-###-#####\",119.0,\"Simulated\",373.11945249512513),new VegaViewData(\"##-###-#####\",120.0,\"Simulated\",369.5892065384409),new VegaViewData(\"##-###-#####\",121.0,\"Simulated\",366.1000908610182),new VegaViewData(\"##-###-#####\",122.0,\"Simulated\",362.6508441513587),new VegaViewData(\"##-###-#####\",123.0,\"Simulated\",359.24008340236287),new VegaViewData(\"##-###-#####\",124.0,\"Simulated\",355.86640710268074),new VegaViewData(\"##-###-#####\",125.0,\"Simulated\",352.5284655352057),new VegaViewData(\"##-###-#####\",126.0,\"Simulated\",349.2249830279593),new VegaViewData(\"##-###-#####\",127.0,\"Simulated\",345.95472643069775),new VegaViewData(\"##-###-#####\",128.0,\"Simulated\",342.71644161092155),new VegaViewData(\"##-###-#####\",129.0,\"Simulated\",339.5088033133075),new VegaViewData(\"##-###-#####\",130.0,\"Simulated\",336.33041659109745),new VegaViewData(\"##-###-#####\",131.0,\"Simulated\",333.1798739853478)\n",
    "}.ToArray();"
   ]
  },
  {
   "cell_type": "code",
   "execution_count": 4,
   "metadata": {},
   "outputs": [],
   "source": [
    "string output = JsonConvert.SerializeObject(vegaViewData[0], Formatting.Indented);\n",
    "output"
   ]
  },
  {
   "cell_type": "code",
   "execution_count": 4,
   "metadata": {},
   "outputs": [],
   "source": [
    "#!javascript\n",
    "\n",
    "interactive.csharp.getVariable(\"vegaViewData\").then(function(csharp_variable) {\n",
    "    console.log(csharp_variable);\n",
    "}).catch(function(err) {\n",
    "    console.log(err);\n",
    "});"
   ]
  },
  {
   "cell_type": "code",
   "execution_count": 5,
   "metadata": {},
   "outputs": [],
   "source": [
    "Specification specification = new Specification\n",
    "{\n",
    "    Data = new DataSource()\n",
    "    {\n",
    "        Name = nameof(vegaViewData)\n",
    "    },\n",
    "    Config = new Config()\n",
    "    {\n",
    "        Legend = new LegendConfig()\n",
    "        {\n",
    "            Orient = LegendOrient.Top\n",
    "        }\n",
    "    },\n",
    "    Width = 900.0,\n",
    "    Height = 750.0,\n",
    "    Encoding = new Encoding()\n",
    "    {\n",
    "        Color = new DefWithConditionMarkPropFieldDefGradientStringNull()\n",
    "        {\n",
    "            Type = StandardType.Nominal,\n",
    "            Field = \"Type\",\n",
    "            //Scale = new Scale()\n",
    "            //{\n",
    "            //    Scheme = \"category20b\"\n",
    "            //}\n",
    "        },\n",
    "        X = new XClass()\n",
    "        {\n",
    "            Type = StandardType.Quantitative,\n",
    "            Field = \"Day\"\n",
    "        },\n",
    "        Y = new YClass()\n",
    "        {\n",
    "            Type  = StandardType.Quantitative,\n",
    "            Field = \"Rate\"\n",
    "        },\n",
    "        Opacity = new DefWithConditionMarkPropFieldDefNumber()\n",
    "        {\n",
    "            Value = 0.2,\n",
    "            Condition = new ConditionalDef()\n",
    "            {\n",
    "                Selection = \"Type\",\n",
    "                Value = 1.0\n",
    "            }\n",
    "        }\n",
    "    },\n",
    "    Layer = new List<LayerSpec>()\n",
    "    {\n",
    "        new LayerSpec()\n",
    "        {\n",
    "            Mark = new BoxPlotDefClass()\n",
    "            {\n",
    "                Type = BoxPlot.Circle\n",
    "            }\n",
    "        },\n",
    "        new LayerSpec()\n",
    "        {\n",
    "            Mark = new BoxPlotDefClass()\n",
    "            {\n",
    "                Type = BoxPlot.Line\n",
    "            },\n",
    "            Selection = new Dictionary<string, SelectionDef>()\n",
    "            {\n",
    "                {\n",
    "                    \"Type\", new SelectionDef()\n",
    "                    {\n",
    "                        Type = SelectionDefType.Multi,\n",
    "                        Bind = SelectionLegendBinding.Legend,\n",
    "                        Fields = new List<string>()\n",
    "                        {\n",
    "                            \"Rate\"\n",
    "                        }\n",
    "                    }\n",
    "                }\n",
    "            }\n",
    "        }\n",
    "    }\n",
    "};"
   ]
  },
  {
   "cell_type": "code",
   "execution_count": 6,
   "metadata": {},
   "outputs": [],
   "source": [
    "Chart chart = new Chart(\"VegaViewData\", specification);"
   ]
  },
  {
   "cell_type": "code",
   "execution_count": 7,
   "metadata": {},
   "outputs": [
    {
     "data": {
      "text/html": [
       "<!DOCTYPE html>\r\n",
       "<html>\r\n",
       "    <head>\r\n",
       "        <meta charset=\"utf-8\" />\r\n",
       "    </head>\r\n",
       "    <body>\r\n",
       "            <script language=\"javascript\">\r\n",
       "                var requireVega = function() {\r\n",
       "                    var requireVegaScriptsConfig = requirejs.config({context:\"vega\",\r\n",
       "                                                                      paths:{\"vega\":\"https://cdn.jsdelivr.net/npm/vega?noext\",\r\n",
       "                                                                             \"vega-lite\":\"https://cdn.jsdelivr.net/npm/vega-lite?noext\",\r\n",
       "                                                                             \"vega-embed\":\"https://cdn.jsdelivr.net/npm/vega-embed?noext\",\r\n",
       "                                                                             \"vega-webgl\":\"https://unpkg.com/vega-webgl-renderer/build/vega-webgl-renderer\",\r\n",
       "                                                                             \"d3-color\":\"https://d3js.org/d3-color.v1.min\"},\r\n",
       "                                                                      map: {\r\n",
       "                                                                      '*': { 'vega-scenegraph': 'vega' }\r\n",
       "                                                                          }\r\n",
       "                                                                      });\r\n",
       "                    requireVegaScriptsConfig([\"d3-color\", \"vega\", \"vega-lite\", \"vega-embed\", \"vega-webgl\"], function(d3Color, vega, vegaLite, vegaEmbed, vegaWebgl) {\r\n",
       "                        renderVegaLite2a90e2a6ced94aa6b8a6fb88d6c29644(d3Color, vega, vegaLite, vegaEmbed, vegaWebgl).then(function(result) {\r\n",
       "                            interactive.csharp.getVariable(\"vegaViewData\").then(function(csharp_variable) {\r\n",
       "                                result.view.data(\"vegaViewData\", csharp_variable);\r\n",
       "                            });\r\n",
       "                        });\r\n",
       "                    });\r\n",
       "                };\r\n",
       "            </script>\r\n",
       "            <script>\r\n",
       "                try {\r\n",
       "                    (async function () {\r\n",
       "                        if ((typeof(requirejs) !==  typeof(Function)) || (typeof(requirejs.config) !== typeof(Function))) {\r\n",
       "                            var script = document.createElement(\"script\"); \r\n",
       "                            script.setAttribute(\"type\", \"text/javascript\");\r\n",
       "                            script.setAttribute(\"src\", \"https://cdnjs.cloudflare.com/ajax/libs/require.js/2.3.6/require.min.js\"); \r\n",
       "                            script.onload = function(){\r\n",
       "                                requireVega();\r\n",
       "                            };\r\n",
       "                            document.getElementsByTagName(\"head\")[0].appendChild(script); \r\n",
       "                        }else{\r\n",
       "                            requireVega();\r\n",
       "                        }\r\n",
       "                    })();\r\n",
       "                } catch(err) {\r\n",
       "                    (function () {\r\n",
       "                        if ((typeof(requirejs) !==  typeof(Function)) || (typeof(requirejs.config) !== typeof(Function))) {\r\n",
       "                            var script = document.createElement(\"script\"); \r\n",
       "                            script.setAttribute(\"type\", \"text/javascript\");\r\n",
       "                            script.setAttribute(\"src\", \"https://cdnjs.cloudflare.com/ajax/libs/require.js/2.3.6/require.min.js\"); \r\n",
       "                            script.onload = function(){\r\n",
       "                                requireVega();\r\n",
       "                            };\r\n",
       "                            document.getElementsByTagName(\"head\")[0].appendChild(script); \r\n",
       "                        }else{\r\n",
       "                            requireVega();\r\n",
       "                        }\r\n",
       "                    })();\r\n",
       "                }\r\n",
       "            </script>\r\n",
       "            <div id=\"2a90e2a6-ced9-4aa6-b8a6-fb88d6c29644\">\r\n",
       "                <h1>VegaViewData</h1>\r\n",
       "                <div id=\"vis-2a90e2a6-ced9-4aa6-b8a6-fb88d6c29644\" class=\"view\"/>\r\n",
       "                <script language=\"javascript\">\r\n",
       "                    var renderVegaLite2a90e2a6ced94aa6b8a6fb88d6c29644 = function(d3Color, vega, vegaLite, vegaEmbed, vegaWebgl) {\r\n",
       "                        var vlSpec = {\"$schema\":\"https://vega.github.io/schema/vega-lite/v4.json\",\"config\":{\"legend\":{\"orient\":\"top\"}},\"data\":{\"name\":\"vegaViewData\"},\"encoding\":{\"color\":{\"field\":\"Type\",\"type\":\"nominal\"},\"opacity\":{\"condition\":{\"value\":1.0,\"selection\":\"Type\"},\"value\":0.2},\"x\":{\"field\":\"Day\",\"type\":\"quantitative\"},\"y\":{\"field\":\"Rate\",\"type\":\"quantitative\"}},\"height\":750.0,\"width\":900.0,\"layer\":[{\"mark\":{\"type\":\"circle\"}},{\"mark\":{\"type\":\"line\"},\"selection\":{\"Type\":{\"bind\":\"legend\",\"fields\":[\"Rate\"],\"type\":\"multi\"}}}]};\r\n",
       "                        var opt = {\r\n",
       "                            renderer: 'webgl',\r\n",
       "                            logLevel: vegaEmbed.Warn\r\n",
       "                        };\r\n",
       "                        return vegaEmbed('#vis-2a90e2a6-ced9-4aa6-b8a6-fb88d6c29644', vlSpec, opt);\r\n",
       "                    };\r\n",
       "\r\n",
       "                </script>\r\n",
       "            </div>\r\n",
       "\r\n",
       "    </body>\r\n",
       "</html>\r\n"
      ]
     },
     "execution_count": 7,
     "metadata": {},
     "output_type": "execute_result"
    }
   ],
   "source": [
    "chart"
   ]
  },
  {
   "cell_type": "code",
   "execution_count": null,
   "metadata": {},
   "outputs": [],
   "source": [
    "chart.ToString()"
   ]
  },
  {
   "cell_type": "code",
   "execution_count": null,
   "metadata": {},
   "outputs": [],
   "source": []
  }
 ],
 "metadata": {
  "kernelspec": {
   "display_name": ".NET (C#)",
   "language": "C#",
   "name": ".net-csharp"
  },
  "language_info": {
   "file_extension": ".cs",
   "mimetype": "text/x-csharp",
   "name": "C#",
   "pygments_lexer": "csharp",
   "version": "8.0"
  }
 },
 "nbformat": 4,
 "nbformat_minor": 4
}
