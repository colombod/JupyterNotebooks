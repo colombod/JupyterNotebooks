{
 "cells": [
  {
   "cell_type": "code",
   "execution_count": null,
   "metadata": {},
   "outputs": [],
   "source": [
    "\n",
    "\n",
    "#r \"nuget:VegaLite.NET,1.0.4\"\n",
    "#r \"nuget:OilGas.Data,1.0.5\"    "
   ]
  },
  {
   "cell_type": "code",
   "execution_count": null,
   "metadata": {},
   "outputs": [],
   "source": [
    "using VegaLite;\n",
    "using OilGas.Data;\n",
    "using OilGas.Data.RRC.Texas;"
   ]
  },
  {
   "cell_type": "code",
   "execution_count": null,
   "metadata": {},
   "outputs": [],
   "source": [
    "ApiNumber api = \"42-285-33615\";\n",
    "\n",
    "RrcTexasDataAdapter.Initialize();\n",
    "\n",
    "WellProduction wellProduction = RrcTexasDataAdapter.GetProductionByApi(api).Result;\n",
    "\n",
    "Chart chart = wellProduction.BuildChart();"
   ]
  },
  {
   "cell_type": "code",
   "execution_count": null,
   "metadata": {},
   "outputs": [],
   "source": [
    "chart"
   ]
  },
  {
   "cell_type": "code",
   "execution_count": null,
   "metadata": {},
   "outputs": [],
   "source": []
  }
 ],
 "metadata": {
  "kernelspec": {
   "display_name": ".NET (C#)",
   "language": "C#",
   "name": ".net-csharp"
  },
  "language_info": {
   "file_extension": ".cs",
   "mimetype": "text/x-csharp",
   "name": "C#",
   "pygments_lexer": "csharp",
   "version": "8.0"
  }
 },
 "nbformat": 4,
 "nbformat_minor": 4
}
