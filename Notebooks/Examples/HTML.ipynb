{
 "cells": [
  {
   "cell_type": "markdown",
   "metadata": {},
   "source": "# Outputting HTML in a notebook"
  },
  {
   "cell_type": "markdown",
   "metadata": {},
   "source": "## Display Helpers\n\nThere are a number of helper methods for writing HTML that are available by default in a .NET notebook."
  },
  {
   "cell_type": "markdown",
   "metadata": {},
   "source": "### HTML"
  },
  {
   "cell_type": "markdown",
   "metadata": {},
   "source": "If you want to write out a `string` as HTML, you can use the `HTML` method:"
  },
  {
   "cell_type": "code",
   "execution_count": 1,
   "metadata": {},
   "source": [
    "display(HTML(\"<!DOCTYPE html>  <html>      <head>          <meta charset=\\\"utf-8\\\" />          <meta name=\\\"viewport\\\" content=\\\"initial-scale=1,maximum-scale=1,user-scalable=no\\\" />          <style> html, body, .root, .view { padding:0; margin:0; height:100%; width:100%; } </style>      </head>      <body>  <div class=\\\"root\\\">          <script>            if (typeof (window.loadScript) !== typeof (Function)) {      var loadScript = function(url, implementationCode, location) {          var script = document.createElement(\\\"script\\\");          //script.setAttribute(\\\"type\\\", \\\"text/javascript\\\");         script.setAttribute(\\\"src\\\", url);          script.onload = function() {             implementationCode();         };          script.onreadystatechange = function() {             implementationCode();         };          location.appendChild(script);     };      window.loadScript = loadScript; }  if (typeof (window.loadStyle) !== typeof (Function)) {      var loadStyle = function(styleSheetLink, location) {          var link = document.createElement(\\\"link\\\");          link.setAttribute(\\\"rel\\\", \\\"stylesheet\\\");         link.setAttribute(\\\"href\\\", styleSheetLink);          location.appendChild(link);     };      window.loadStyle = loadStyle; }  if (typeof (window.RequireJSLoaded) === typeof (undefined)) {     var RequireJSLoaded = new Event(\\\"requirejs-loaded\\\");     window.RequireJSLoaded = RequireJSLoaded; }  if (typeof (window.OnLoadRequireJS) !== typeof (Function)) {      function OnLoadRequireJS() {         window.dispatchEvent(window.RequireJSLoaded);     }      window.OnLoadRequireJS = OnLoadRequireJS; }  if (((typeof (window.requirejs) !== typeof (Function)) ||         (typeof (window.requirejs.config) !== typeof (Function))) &&     (typeof (window.loadScript) === typeof (Function))) {      window.loadScript(\\\"https://cdnjs.cloudflare.com/ajax/libs/require.js/2.3.6/require.min.js\\\", window.OnLoadRequireJS, document.head);  } else {      window.OnLoadRequireJS();  }           window.loadStyle(\\\"https://js.arcgis.com/4.15/esri/themes/dark/main.css\\\", document.head);   if (typeof (window.RequireJSConfigured) === typeof (undefined)) {     var RequireJSConfigured = new Event(\\\"requirejs-configured\\\");     window.RequireJSConfigured = RequireJSConfigured; }  window.addEventListener(\\\"requirejs-loaded\\\",     function(e) {          //if ((typeof (window.requirejs) === typeof (Function)) && (typeof (window.arcgis_require) === typeof (undefined))) {          //    let arcgis_require = window.requirejs.config({         //        context: \\\"esri\\\",         //        baseUrl: \\\"https://js.arcgis.com/4.15/\\\",         //        paths: {         //            Map: \\\"esri/Map\\\",         //            MapView: \\\"esri/views/MapView\\\",         //            Layer: \\\"esri/layers/Layer\\\",         //            BaseLayerViewGL2D: \\\"esri/views/2d/layers/BaseLayerViewGL2D\\\",         //            TileInfo: \\\"esri/layers/support/TileInfo\\\"         //        }         //    });         //         //    window.arcgis_require = arcgis_require;         //}          if ((typeof (window.requirejs) === typeof (Function)) && (typeof (window.esri_loader_require) === typeof (undefined))) {              let esri_loader_require = window.requirejs.config({                 context: \\\"esri-loader\\\",                 paths: {                     \\\"Loader\\\": \\\"https://unpkg.com/esri-loader?noext\\\"                 }             });              window.esri_loader_require = esri_loader_require;              window.dispatchEvent(window.RequireJSConfigured);         }      },     false);  window.addEventListener(\\\"requirejs-configured\\\",     function(e) {          if ((typeof (interactive) !== typeof (undefined)) &&             (typeof (interactive.csharp) !== typeof (undefined)) &&             (typeof (interactive.csharp.getVariable) === typeof (Function))) {              var variableNamesd39e4b741169449bbc911faf12523eb8 =             [];              variableNamesd39e4b741169449bbc911faf12523eb8.forEach(variableName => {                 interactive.csharp.getVariable(variableName).then(variableValue => {                     window[variableName] = variableValue;                 });             });         }          if (typeof (window.esri_loader_require) === typeof (Function)) {              LoadArcGISd39e4b741169449bbc911faf12523eb8 = function() {                  window.esri_loader_require([                         \\\"Loader\\\"                     ],                     function(Loader) {                          //Loader.setDefaultOptions({ url: \\\"https://js.arcgis.com/4.15/\\\" });                          const options = {                             version: \\\"4.15\\\",                             url: \\\"https://js.arcgis.com/4.15/\\\",                             css: true,                             dojoConfig: {                                 async: true,                                 has: {                                     \\\"esri-promise-compatibility\\\": true,                                     \\\"esri-featurelayer-webgl\\\": true                                 }                             }                         };                          if (typeof define !== \\\"undefined\\\" && typeof require !== \\\"undefined\\\") {                             window.__define = window.define;                             window.__require = window.require;                             window.define = undefined;                             window.require = undefined;                         }                          Loader.loadModules([                                     \\\"esri/Map\\\",                                     \\\"esri/views/MapView\\\",                                     \\\"esri/layers/Layer\\\",                                     \\\"esri/views/2d/layers/BaseLayerViewGL2D\\\",                                     \\\"esri/layers/support/TileInfo\\\"                                 ],                                 options).then(([Map, MapView, Layer, BaseLayerViewGL2D, TileInfo]) => {                                  const CustomLayerView2D = BaseLayerViewGL2D.createSubclass({                                     a_Position: 0,                                      constructor: function() {                                         // Maps from tile id to the texture used by that tile.                                         this.textures = new window.Map();                                          // A [x, y, width, height] rectangle that describes the                                         // position of an unrotated tile in pixels.                                         this.rect = vec4.create();                                          // The modelTransform is a rotation around the center                                         // of the screen; we implement it as a translation, followed                                         // by a rotation, followed by a translation back to the origin.                                         // It is used to rotate the 'rect' defined above in the vertex                                         // shader.                                         this.modelTransform = mat3.create();                                         this.modelTransformPreTranslation = mat3.create();                                         this.modelTransformRotation = mat3.create();                                         this.modelTransformPostTranslation = mat3.create();                                          // Transforms from pixels to normalized device coordinates.                                         this.ndcTransform = mat3.create();                                     },                                      attach: function() {                                         // We create and keep around a canvas and its associated 2D context.                                         // We will use it at every frame to paint the textures for newly                                         // created tiles.                                         const canvas = document.createElement(\\\"canvas\\\");                                         canvas.width = this.layer.tileInfo.size[0];                                         canvas.height = this.layer.tileInfo.size[1];                                         const ctx = canvas.getContext(\\\"2d\\\");                                         ctx.fillStyle = \\\"white\\\";                                         ctx.shadowColor = \\\"black\\\";                                         ctx.strokeStyle = \\\"white\\\";                                         ctx.shadowBlur = 3;                                         ctx.font = \\\"20px sans-serif\\\";                                         this.ctx = ctx;                                          // Creation of WebGL resources.                                         const gl = this.context;                                          // Create shaders.                                         const vs = gl.createShader(gl.VERTEX_SHADER);                                         gl.shaderSource(                                             vs,                                             \\\"precision highp float;\\\" +                                             \\\"attribute vec2 a_Position;\\\" +                                             \\\"uniform vec4 u_Rect;\\\" +                                             \\\"uniform mat3 u_ModelTransform;\\\" +                                             \\\"uniform mat3 u_NDCTransform;\\\" +                                             \\\"varying vec2 v_TexCoord;\\\" +                                             \\\"void main(void) {\\\" +                                             \\\"  vec3 transformed = u_NDCTransform * u_ModelTransform * vec3(u_Rect.xy + u_Rect.zw * a_Position, 1.0);\\\" +                                             \\\"  transformed /= transformed.z;\\\" +                                             \\\"  gl_Position = vec4(transformed.xy, 0.0, 1.0);\\\" +                                             \\\"  v_TexCoord = a_Position;\\\" +                                             \\\"}\\\"                                         );                                         gl.compileShader(vs);                                          const fs = gl.createShader(gl.FRAGMENT_SHADER);                                         gl.shaderSource(                                             fs,                                             \\\"precision highp float;\\\" +                                             \\\"varying vec2 v_TexCoord;\\\" +                                             \\\"uniform sampler2D u_Texture;\\\" +                                             \\\"void main(void) {\\\" +                                             \\\"  gl_FragColor = texture2D(u_Texture, v_TexCoord);\\\" +                                             \\\"}\\\"                                         );                                         gl.compileShader(fs);                                          this.program = gl.createProgram();                                         gl.attachShader(this.program, vs);                                         gl.attachShader(this.program, fs);                                         gl.bindAttribLocation(this.program, this.a_Position, \\\"a_Position\\\");                                         gl.linkProgram(this.program);                                         gl.deleteShader(vs);                                         gl.deleteShader(fs);                                          // Retrieve uniform locations.                                         this.u_Rect = gl.getUniformLocation(this.program, \\\"u_Rect\\\");                                         this.u_ModelTransform = gl.getUniformLocation(                                             this.program,                                             \\\"u_ModelTransform\\\"                                         );                                         this.u_NDCTransform = gl.getUniformLocation(                                             this.program,                                             \\\"u_NDCTransform\\\"                                         );                                         this.u_Texture = gl.getUniformLocation(this.program, \\\"u_Texture\\\");                                          // Create buffers. The tile is represented by a 1x1 square; the vertex shader will                                         // stretch it and position it on screen using the pixel values contained in `this.rect`.                                         this.vertexBuffer = gl.createBuffer();                                         gl.bindBuffer(gl.ARRAY_BUFFER, this.vertexBuffer);                                         gl.bufferData(                                             gl.ARRAY_BUFFER,                                             new Uint8Array([0, 0, 1, 0, 1, 1, 0, 1]),                                             gl.STATIC_DRAW                                         );                                         this.indexBuffer = gl.createBuffer();                                         gl.bindBuffer(gl.ELEMENT_ARRAY_BUFFER, this.indexBuffer);                                         gl.bufferData(                                             gl.ELEMENT_ARRAY_BUFFER,                                             new Uint16Array([0, 1, 2, 0, 2, 3]),                                             gl.STATIC_DRAW                                         );                                     },                                      // Creates the textures for new tiles that don't have a texture yet, and destroys the textures                                     // of tiles that are not on screen anymore.                                     manageTextures: function() {                                         const gl = this.context;                                          const tileIdSet = new Set();                                          // Create new textures as needed.                                         for (let i = 0; i < this.tiles.length; ++i) {                                             const tile = this.tiles[i];                                             tileIdSet.add(tile.id);                                              if (!this.textures.has(tile.id)) {                                                 // The image is simply a border-to-border square with the tile id                                                 // in the upper-left corner of the screen. When tiled, the squares                                                 // will display as tile boundaries across the entire screen.                                                 this.ctx.clearRect(                                                     0,                                                     0,                                                     this.ctx.canvas.width,                                                     this.ctx.canvas.height                                                 );                                                 this.ctx.fillText(tile.id, 10, 24);                                                 this.ctx.strokeRect(                                                     0,                                                     0,                                                     this.ctx.canvas.width,                                                     this.ctx.canvas.height                                                 );                                                 const texture = gl.createTexture();                                                 gl.activeTexture(gl.TEXTURE0);                                                 gl.bindTexture(gl.TEXTURE_2D, texture);                                                 gl.texImage2D(                                                     gl.TEXTURE_2D,                                                     0,                                                     gl.RGBA,                                                     gl.RGBA,                                                     gl.UNSIGNED_BYTE,                                                     this.ctx.canvas                                                 );                                                 gl.texParameteri(                                                     gl.TEXTURE_2D,                                                     gl.TEXTURE_WRAP_S,                                                     gl.CLAMP_TO_EDGE                                                 );                                                 gl.texParameteri(                                                     gl.TEXTURE_2D,                                                     gl.TEXTURE_WRAP_T,                                                     gl.CLAMP_TO_EDGE                                                 );                                                 gl.texParameteri(                                                     gl.TEXTURE_2D,                                                     gl.TEXTURE_MIN_FILTER,                                                     gl.LINEAR                                                 );                                                 this.textures.set(tile.id, texture);                                             }                                         }                                          // Destroys unneeded textures.                                         this.textures.forEach(                                             function(_, id) {                                                 if (!tileIdSet.has(id)) {                                                     gl.deleteTexture(this.textures.get(id));                                                     this.textures.delete(id);                                                 }                                             }.bind(this)                                         );                                     },                                      // Example of a render implementation that draws tile boundaries                                     render: function(renderParameters) {                                         this.manageTextures();                                          const gl = this.context;                                          gl.enable(gl.BLEND);                                         gl.blendFunc(gl.ONE, gl.ONE_MINUS_SRC_ALPHA);                                         gl.enableVertexAttribArray(this.a_Position);                                         gl.useProgram(this.program);                                          // Computes the matrices.                                         this.ndcTransform[0] = 2.0 / gl.canvas.width;                                         this.ndcTransform[3] = 0;                                         this.ndcTransform[6] = -1;                                         this.ndcTransform[1] = 0;                                         this.ndcTransform[4] = -2.0 / gl.canvas.height;                                         this.ndcTransform[7] = 1;                                         this.ndcTransform[2] = 0;                                         this.ndcTransform[5] = 0;                                         this.ndcTransform[8] = 1;                                          const tileSize = this.layer.tileInfo.size[0];                                         const state = renderParameters.state;                                         const pixelRatio = state.pixelRatio;                                         const width = state.size[0];                                         const height = state.size[1];                                         const coords = [0, 0];                                          if (state.rotation !== 0) {                                             this.modelTransformPreTranslation[0] = 1;                                             this.modelTransformPreTranslation[3] = 0;                                             this.modelTransformPreTranslation[6] = -width * pixelRatio * 0.5;                                             this.modelTransformPreTranslation[1] = 0;                                             this.modelTransformPreTranslation[4] = 1;                                             this.modelTransformPreTranslation[7] = -height * pixelRatio * 0.5;                                             this.modelTransformPreTranslation[2] = 0;                                             this.modelTransformPreTranslation[5] = 0;                                             this.modelTransformPreTranslation[8] = 1;                                              const rot = (state.rotation * Math.PI) / 180;                                             this.modelTransformRotation[0] = Math.cos(rot);                                             this.modelTransformRotation[3] = -Math.sin(rot);                                             this.modelTransformRotation[6] = 0;                                             this.modelTransformRotation[1] = Math.sin(rot);                                             this.modelTransformRotation[4] = Math.cos(rot);                                             this.modelTransformRotation[7] = 0;                                             this.modelTransformRotation[2] = 0;                                             this.modelTransformRotation[5] = 0;                                             this.modelTransformRotation[8] = 1;                                              this.modelTransformPostTranslation[0] = 1;                                             this.modelTransformPostTranslation[3] = 0;                                             this.modelTransformPostTranslation[6] = width * pixelRatio * 0.5;                                             this.modelTransformPostTranslation[1] = 0;                                             this.modelTransformPostTranslation[4] = 1;                                             this.modelTransformPostTranslation[7] = height * pixelRatio * 0.5;                                             this.modelTransformPostTranslation[2] = 0;                                             this.modelTransformPostTranslation[5] = 0;                                             this.modelTransformPostTranslation[8] = 1;                                              mat3.multiply(                                                 this.modelTransform,                                                 this.modelTransformRotation,                                                 this.modelTransformPreTranslation                                             );                                             mat3.multiply(                                                 this.modelTransform,                                                 this.modelTransformPostTranslation,                                                 this.modelTransform                                             );                                         } else {                                             this.modelTransform[0] = 1;                                             this.modelTransform[3] = 0;                                             this.modelTransform[6] = 0;                                             this.modelTransform[1] = 0;                                             this.modelTransform[4] = 1;                                             this.modelTransform[7] = 0;                                             this.modelTransform[2] = 0;                                             this.modelTransform[5] = 0;                                             this.modelTransform[8] = 1;                                         }                                          // Set per-frame states and uniforms.                                         gl.bindBuffer(gl.ARRAY_BUFFER, this.vertexBuffer);                                         gl.vertexAttribPointer(                                             this.a_Position,                                             2,                                             gl.UNSIGNED_BYTE,                                             false,                                             2,                                             0                                         );                                         gl.bindBuffer(gl.ELEMENT_ARRAY_BUFFER, this.indexBuffer);                                         gl.uniformMatrix3fv(this.u_NDCTransform, false, this.ndcTransform);                                         gl.uniformMatrix3fv(                                             this.u_ModelTransform,                                             false,                                             this.modelTransform                                         );                                          // Render each tile separately.                                         for (let i = 0; i < this.tiles.length; i++) {                                             // Retrieve the current tile and its associated texture.                                             const tile = this.tiles[i];                                             const texture = this.textures.get(tile.id);                                              // Derive the screen `rect` for this tile.                                             const screenScale =                                                 (tile.resolution / state.resolution) * pixelRatio;                                             state.toScreenNoRotation(coords, tile.coords);                                             this.rect[0] = coords[0];                                             this.rect[1] = coords[1];                                             this.rect[2] = tileSize * screenScale;                                             this.rect[3] = tileSize * screenScale;                                              gl.activeTexture(gl.TEXTURE0);                                             gl.bindTexture(gl.TEXTURE_2D, texture);                                             gl.uniform4fv(this.u_Rect, this.rect);                                             gl.uniform1i(this.u_Texture, 0);                                              gl.drawElements(gl.TRIANGLES, 6, gl.UNSIGNED_SHORT, 0);                                         }                                     },                                      detach: function() {                                         const gl = this.context;                                          gl.deleteProgram(this.program);                                         gl.deleteBuffer(this.vertexBuffer);                                         gl.deleteBuffer(this.indexBuffer);                                          this.textures.forEach(                                             function(_, id) {                                                 gl.deleteTexture(this.textures.get(id));                                                 this.textures.delete(id);                                             }.bind(this)                                         );                                     },                                      tilesChanged: function() {}                                 });                                  const CustomLayer = Layer.createSubclass({                                     tileInfo: TileInfo.create({                                         size: 512,                                         spatialReference: {                                             wkid: 3857                                         }                                     }),                                      createLayerView: function(view) {                                         if (view.type === \\\"2d\\\") {                                             return new CustomLayerView2D({                                                 view: view,                                                 layer: this                                             });                                         }                                     }                                 });                                  const layer = new CustomLayer();                                  const map = new Map({                                     basemap: \\\"dark-gray-vector\\\"                                     //layers: [layer]                                 });                                  const view = new MapView({                                     container: \\\"view-d39e4b74-1169-449b-bc91-1faf12523eb8\\\",                                     map: map,                                     zoom: 5,                                     center: [-100, 40]                                 });                              })                             .catch(err => {                                 console.error(err);                             });                      });              };              LoadArcGISd39e4b741169449bbc911faf12523eb8();         }      },     false);           </script>    <div id=\\\"view-d39e4b74-1169-449b-bc91-1faf12523eb8\\\" class=\\\"view\\\"></div>  </div>        </body>  </html>\"));"
   ],
   "outputs": [
    {
     "output_type": "error",
     "ename": "Error",
     "evalue": "(1,1): error CS0103: The name 'display' does not exist in the current context\r\n(1,9): error CS0103: The name 'HTML' does not exist in the current context",
     "traceback": []
    }
   ]
  },
  {
   "cell_type": "markdown",
   "metadata": {},
   "source": "Displaying HTML using a `string` directly will display the actual string rather than rendering it as HTML. "
  },
  {
   "cell_type": "code",
   "execution_count": 1,
   "metadata": {},
   "source": [
    "display(\"<b style=\\\"color:blue\\\">Hello!</b>\");"
   ],
   "outputs": [
    {
     "output_type": "error",
     "ename": "Error",
     "evalue": "(1,1): error CS0103: The name 'display' does not exist in the current context",
     "traceback": []
    }
   ]
  },
  {
   "cell_type": "markdown",
   "metadata": {},
   "source": "The `HTML` method signals that the content is HTML because its return type, `HtmlString`, implements `IHtmlContent`:"
  },
  {
   "cell_type": "code",
   "execution_count": 1,
   "metadata": {},
   "source": [
    "var someHtml = HTML(\"<b style=\\\"color:blue\\\">Hello!</b>\");\r\n",
    "\r\n",
    "display(someHtml.GetType());"
   ],
   "outputs": [
    {
     "output_type": "error",
     "ename": "Error",
     "evalue": "(1,16): error CS0103: The name 'HTML' does not exist in the current context\r\n(3,1): error CS0103: The name 'display' does not exist in the current context",
     "traceback": []
    }
   ]
  },
  {
   "cell_type": "markdown",
   "metadata": {},
   "source": "### Javascript"
  },
  {
   "cell_type": "markdown",
   "metadata": {},
   "source": "You may also want to output JavaScript. You can do this using the `Javascript` helper."
  },
  {
   "cell_type": "code",
   "execution_count": 1,
   "metadata": {},
   "source": [
    "Javascript(@\"alert(\"\"Hello!\"\");\");"
   ],
   "outputs": [
    {
     "output_type": "error",
     "ename": "Error",
     "evalue": "(1,1): error CS0103: The name 'Javascript' does not exist in the current context",
     "traceback": []
    }
   ]
  },
  {
   "cell_type": "markdown",
   "metadata": {},
   "source": "## PocketView (C#)"
  },
  {
   "cell_type": "markdown",
   "metadata": {},
   "source": "For more complex HTML, you can use the PocketView API. Lets start with an example:"
  },
  {
   "cell_type": "code",
   "execution_count": 1,
   "metadata": {},
   "source": [
    "display(\r\n",
    "    span(\r\n",
    "        img[src:\"https://en.wikipedia.org/favicon.ico\", style:\"height:1.5em\"],\r\n",
    "        a[href: @\"https://en.wikipedia.org\", target: \"blank\", style:\"color:green\"](b(\"Wikipedia\"))\r\n",
    "    )\r\n",
    ");"
   ],
   "outputs": [
    {
     "output_type": "error",
     "ename": "Error",
     "evalue": "(1,1): error CS0103: The name 'display' does not exist in the current context",
     "traceback": []
    }
   ]
  },
  {
   "cell_type": "markdown",
   "metadata": {},
   "source": "PocketView is an API for concisely writing HTML, in the terminology of HTML, using C# code. Just like the `HTML` method, it returns an object that implements `IHtmlContent`. You can see the actual HTML code by converting a `PocketView` to a string:"
  },
  {
   "cell_type": "code",
   "execution_count": 1,
   "metadata": {},
   "source": [
    "var pocketView = span(\r\n",
    "        img[src:\"https://en.wikipedia.org/favicon.ico\", style:\"height:1.5em\"],\r\n",
    "        a[href: @\"https://en.wikipedia.org\", target: \"blank\", style:\"color:green\"](b(\"Wikipedia\")));\r\n",
    "\r\n",
    "display(pocketView.ToString());"
   ],
   "outputs": [
    {
     "output_type": "error",
     "ename": "Error",
     "evalue": "(5,1): error CS0103: The name 'display' does not exist in the current context",
     "traceback": []
    }
   ]
  },
  {
   "cell_type": "markdown",
   "metadata": {},
   "source": "The PocketView API provides a number of top-level properties in your notebook that can be used to create various HTML tags. Here's the list of tags that are supported by default:"
  },
  {
   "cell_type": "code",
   "execution_count": 1,
   "metadata": {},
   "source": [
    "var pocketViewTagMethods = typeof(PocketViewTags)\r\n",
    "    .GetProperties()\r\n",
    "    .Select(m => m.Name);\r\n",
    "\r\n",
    "display(pocketViewTagMethods);"
   ],
   "outputs": [
    {
     "output_type": "error",
     "ename": "Error",
     "evalue": "(5,1): error CS0103: The name 'display' does not exist in the current context",
     "traceback": []
    }
   ]
  },
  {
   "cell_type": "markdown",
   "metadata": {},
   "source": "Each of these properties returns a `PocketView` instance that can then be filled in with some content by passing arguments to it like a method call."
  },
  {
   "cell_type": "code",
   "execution_count": 1,
   "metadata": {},
   "source": [
    "var pocketView = i(\"Hello!\");\r\n",
    "\r\n",
    "display(pocketView);"
   ],
   "outputs": [
    {
     "output_type": "error",
     "ename": "Error",
     "evalue": "(3,1): error CS0103: The name 'display' does not exist in the current context",
     "traceback": []
    }
   ]
  },
  {
   "cell_type": "markdown",
   "metadata": {},
   "source": "A `PocketView` instance can also be decorated with attributes using square brackets."
  },
  {
   "cell_type": "code",
   "execution_count": 1,
   "metadata": {},
   "source": [
    "var pocketView = span[style:\"font-style:italic\"](\"Hello!\");\r\n",
    "\r\n",
    "display(pocketView);"
   ],
   "outputs": [
    {
     "output_type": "error",
     "ename": "Error",
     "evalue": "(3,1): error CS0103: The name 'display' does not exist in the current context",
     "traceback": []
    }
   ]
  },
  {
   "cell_type": "markdown",
   "metadata": {},
   "source": "You'll notice that if you pass a `string` to `PocketView`, it will be HTML encoded for you:"
  },
  {
   "cell_type": "code",
   "execution_count": 1,
   "metadata": {},
   "source": [
    "PocketView pocketView = span(\"<div>This string looks like HTML but it will be HTML encoded.</div>\");\r\n",
    "\r\n",
    "display(pocketView);\r\n",
    "\r\n",
    "display(\"Have a look at the actual HTML:\");\r\n",
    "\r\n",
    "display(pocketView.ToString());"
   ],
   "outputs": [
    {
     "output_type": "error",
     "ename": "Error",
     "evalue": "(3,1): error CS0103: The name 'display' does not exist in the current context\r\n(5,1): error CS0103: The name 'display' does not exist in the current context\r\n(7,1): error CS0103: The name 'display' does not exist in the current context",
     "traceback": []
    }
   ]
  },
  {
   "cell_type": "markdown",
   "metadata": {},
   "source": "If you don't want the content to be encoded, simply pass it wrapped in a type that implements `IHtmlContent`."
  },
  {
   "cell_type": "code",
   "execution_count": 1,
   "metadata": {},
   "source": [
    "var htmlContent = HTML(\"<i>This won't be HTML encoded.</i>\");\r\n",
    "\r\n",
    "PocketView pocketView = span(\r\n",
    "    htmlContent\r\n",
    ");\r\n",
    "\r\n",
    "display(pocketView);"
   ],
   "outputs": [
    {
     "output_type": "error",
     "ename": "Error",
     "evalue": "(1,19): error CS0103: The name 'HTML' does not exist in the current context\r\n(7,1): error CS0103: The name 'display' does not exist in the current context",
     "traceback": []
    }
   ]
  },
  {
   "cell_type": "markdown",
   "metadata": {},
   "source": "You can pass other types of objects of into a `PocketView` as well. When you do this, they're formatted using the plain text formatter, which by default expands the object's properties."
  },
  {
   "cell_type": "code",
   "execution_count": 1,
   "metadata": {},
   "source": [
    "PocketView pocketView = b(\r\n",
    "    new { Fruit = \"apple\", Texture = \"smooth\" }\r\n",
    ");\r\n",
    "\r\n",
    "display(pocketView);"
   ],
   "outputs": [
    {
     "output_type": "error",
     "ename": "Error",
     "evalue": "(5,1): error CS0103: The name 'display' does not exist in the current context",
     "traceback": []
    }
   ]
  },
  {
   "cell_type": "markdown",
   "metadata": {},
   "source": "## Magic Commands\n\nThere are also several magic commands that can be used to output HTML in your .NET notebook.\n\nYou can output HTML..."
  },
  {
   "cell_type": "code",
   "execution_count": 1,
   "metadata": {},
   "source": [
    "#!html\r\n",
    "\r\n",
    "<b>Hello!</b>"
   ],
   "outputs": [
    {
     "output_type": "execute_result",
     "execution_count": 1,
     "data": {
      "text/html": [
       "<b>Hello!</b>"
      ]
     },
     "metadata": {}
    }
   ]
  },
  {
   "cell_type": "markdown",
   "metadata": {},
   "source": "...or run JavaScript..."
  },
  {
   "cell_type": "code",
   "execution_count": 1,
   "metadata": {},
   "source": [
    "#!javascript\r\n",
    "\r\n",
    "alert(\"hello\");"
   ],
   "outputs": []
  },
  {
   "cell_type": "markdown",
   "metadata": {},
   "source": "...or render Markdown."
  },
  {
   "cell_type": "markdown",
   "metadata": {},
   "source": "\nWrite a **list** ...\n* first\n* second\n\n...or a _table_...\n\n|Fruit    |Texture |\n|---------|--------|\n|apple    |smooth  |\n|durian   |bumpy   |"
  },
  {
   "cell_type": "markdown",
   "metadata": {},
   "source": "---\n**_See also_**\n* [Object formatters](Object%20formatters.ipynb)\n* [Displaying output](Displaying%20output.ipynb)"
  },
  {
   "cell_type": "code",
   "execution_count": 1,
   "metadata": {},
   "source": [
    ""
   ],
   "outputs": []
  }
 ],
 "metadata": {
  "kernelspec": {
   "display_name": ".NET (C#)",
   "language": "C#",
   "name": ".net-csharp"
  },
  "language_info": {
   "file_extension": ".cs",
   "mimetype": "text/x-csharp",
   "name": "C#",
   "pygments_lexer": "csharp",
   "version": "8.0"
  }
 },
 "nbformat": 4,
 "nbformat_minor": 4
}