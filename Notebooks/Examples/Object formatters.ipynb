{
 "cells": [
  {
   "cell_type": "markdown",
   "metadata": {},
   "source": "# Object formatters"
  },
  {
   "cell_type": "markdown",
   "metadata": {},
   "source": "## Default formatting behaviors"
  },
  {
   "cell_type": "markdown",
   "metadata": {},
   "source": "When you return a value or a display a value in a .NET notebook, the default formatting behavior is to try to provide some useful information about the object. If it's an array or other type implementing `IEnumerable`, that might look like this:"
  },
  {
   "cell_type": "code",
   "execution_count": 1,
   "metadata": {},
   "source": [
    "display(new [] {\"hello\", \"world\"} );\r\n",
    "\r\n",
    "Enumerable.Range(1, 5)"
   ],
   "outputs": [
    {
     "output_type": "execute_result",
     "execution_count": 1,
     "data": {
      "text/html": [
       "<table><thead><tr><th><i>index</i></th><th>value</th></tr></thead><tbody><tr><td>0</td><td><div class=\"dni-plaintext\">hello</div></td></tr><tr><td>1</td><td><div class=\"dni-plaintext\">world</div></td></tr></tbody></table>"
      ]
     },
     "metadata": {}
    },
    {
     "output_type": "execute_result",
     "execution_count": 1,
     "data": {
      "text/html": [
       "<table><thead><tr><th><i>index</i></th><th>value</th></tr></thead><tbody><tr><td>0</td><td><div class=\"dni-plaintext\">1</div></td></tr><tr><td>1</td><td><div class=\"dni-plaintext\">2</div></td></tr><tr><td>2</td><td><div class=\"dni-plaintext\">3</div></td></tr><tr><td>3</td><td><div class=\"dni-plaintext\">4</div></td></tr><tr><td>4</td><td><div class=\"dni-plaintext\">5</div></td></tr></tbody></table>"
      ]
     },
     "metadata": {}
    }
   ]
  },
  {
   "cell_type": "markdown",
   "metadata": {},
   "source": "As you can see, the same basic structure is used whether you pass the object to the `display` method or return it as the cell's value.\n\nSimilarly to the behavior for `IEnumerable` objects, you'll also see table output for dictionaries, but for each value in the dictionary, the key is provided rather than the index within the collection."
  },
  {
   "cell_type": "code",
   "execution_count": 1,
   "metadata": {},
   "source": [
    "var dictionary = new Dictionary<string, int>\r\n",
    "{\r\n",
    "  [\"zero\"] = 0,\r\n",
    "  [\"one\"] = 1,\r\n",
    "  [\"two\"] = 2\r\n",
    "};\r\n",
    "dictionary"
   ],
   "outputs": [
    {
     "output_type": "execute_result",
     "execution_count": 1,
     "data": {
      "text/html": [
       "<table><thead><tr><th><i>key</i></th><th>value</th></tr></thead><tbody><tr><td><div class=\"dni-plaintext\">zero</div></td><td><div class=\"dni-plaintext\">0</div></td></tr><tr><td><div class=\"dni-plaintext\">one</div></td><td><div class=\"dni-plaintext\">1</div></td></tr><tr><td><div class=\"dni-plaintext\">two</div></td><td><div class=\"dni-plaintext\">2</div></td></tr></tbody></table>"
      ]
     },
     "metadata": {}
    }
   ]
  },
  {
   "cell_type": "markdown",
   "metadata": {},
   "source": "The default formatting behavior for other types of objects is to produce a table showing their properties and the values of those properties."
  },
  {
   "cell_type": "code",
   "execution_count": 1,
   "metadata": {},
   "source": [
    "class Person \r\n",
    "{\r\n",
    "    public string FirstName { get; set; }\r\n",
    "    public string LastName { get; set; }\r\n",
    "    public int Age { get; set; } \r\n",
    "}\r\n",
    "\r\n",
    "display(new Person { FirstName = \"Mitch\", LastName = \"Buchannon\", Age = 42} );"
   ],
   "outputs": [
    {
     "output_type": "execute_result",
     "execution_count": 1,
     "data": {
      "text/html": [
       "<table><thead><tr><th>FirstName</th><th>LastName</th><th>Age</th></tr></thead><tbody><tr><td><div class=\"dni-plaintext\">Mitch</div></td><td><div class=\"dni-plaintext\">Buchannon</div></td><td><div class=\"dni-plaintext\">42</div></td></tr></tbody></table>"
      ]
     },
     "metadata": {}
    }
   ]
  },
  {
   "cell_type": "markdown",
   "metadata": {},
   "source": "When you have a collection of such objects, you can see the values listed for each item in the collection:"
  },
  {
   "cell_type": "code",
   "execution_count": 1,
   "metadata": {},
   "source": [
    "var groupOfPeople = new [] \r\n",
    "{\r\n",
    "    new Person { FirstName = \"Mitch\", LastName = \"Buchannon\", Age = 42 },\r\n",
    "    new Person { FirstName = \"Hobie \", LastName = \"Buchannon\", Age = 23 },\r\n",
    "    new Person { FirstName = \"Summer\", LastName = \"Quinn\", Age = 25 },\r\n",
    "    new Person { FirstName = \"C.J.\", LastName = \"Parker\", Age = 23 },\r\n",
    "};\r\n",
    "\r\n",
    "display(groupOfPeople);"
   ],
   "outputs": [
    {
     "output_type": "execute_result",
     "execution_count": 1,
     "data": {
      "text/html": [
       "<table><thead><tr><th><i>index</i></th><th>FirstName</th><th>LastName</th><th>Age</th></tr></thead><tbody><tr><td>0</td><td><div class=\"dni-plaintext\">Mitch</div></td><td><div class=\"dni-plaintext\">Buchannon</div></td><td><div class=\"dni-plaintext\">42</div></td></tr><tr><td>1</td><td><div class=\"dni-plaintext\">Hobie </div></td><td><div class=\"dni-plaintext\">Buchannon</div></td><td><div class=\"dni-plaintext\">23</div></td></tr><tr><td>2</td><td><div class=\"dni-plaintext\">Summer</div></td><td><div class=\"dni-plaintext\">Quinn</div></td><td><div class=\"dni-plaintext\">25</div></td></tr><tr><td>3</td><td><div class=\"dni-plaintext\">C.J.</div></td><td><div class=\"dni-plaintext\">Parker</div></td><td><div class=\"dni-plaintext\">23</div></td></tr></tbody></table>"
      ]
     },
     "metadata": {}
    }
   ]
  },
  {
   "cell_type": "markdown",
   "metadata": {},
   "source": "Again, displaying the dictionary will show the items by key rather than index."
  },
  {
   "cell_type": "code",
   "execution_count": 1,
   "metadata": {},
   "source": [
    "display(groupOfPeople.ToDictionary(p => $\"{p.FirstName}\"));"
   ],
   "outputs": [
    {
     "output_type": "execute_result",
     "execution_count": 1,
     "data": {
      "text/html": [
       "<table><thead><tr><th><i>key</i></th><th>FirstName</th><th>LastName</th><th>Age</th></tr></thead><tbody><tr><td><div class=\"dni-plaintext\">Mitch</div></td><td><div class=\"dni-plaintext\">Mitch</div></td><td><div class=\"dni-plaintext\">Buchannon</div></td><td><div class=\"dni-plaintext\">42</div></td></tr><tr><td><div class=\"dni-plaintext\">Hobie </div></td><td><div class=\"dni-plaintext\">Hobie </div></td><td><div class=\"dni-plaintext\">Buchannon</div></td><td><div class=\"dni-plaintext\">23</div></td></tr><tr><td><div class=\"dni-plaintext\">Summer</div></td><td><div class=\"dni-plaintext\">Summer</div></td><td><div class=\"dni-plaintext\">Quinn</div></td><td><div class=\"dni-plaintext\">25</div></td></tr><tr><td><div class=\"dni-plaintext\">C.J.</div></td><td><div class=\"dni-plaintext\">C.J.</div></td><td><div class=\"dni-plaintext\">Parker</div></td><td><div class=\"dni-plaintext\">23</div></td></tr></tbody></table>"
      ]
     },
     "metadata": {}
    }
   ]
  },
  {
   "cell_type": "markdown",
   "metadata": {},
   "source": "Now let's try something a bit more complex. Let's look at a graph of objects. \n\nWe'll redefine the `Person` class to allow a reference to a collection of other `Person` instances."
  },
  {
   "cell_type": "code",
   "execution_count": 1,
   "metadata": {},
   "source": [
    "class Person \r\n",
    "{\r\n",
    "    public string FirstName { get; set; }\r\n",
    "    public string LastName { get; set; }\r\n",
    "    public int Age { get; set; } \r\n",
    "    public List<Person> Friends { get; } = new List<Person>();\r\n",
    "}\r\n",
    "\r\n",
    "\r\n",
    "var mitch = new Person { FirstName = \"Mitch\", LastName = \"Buchannon\", Age = 42 };\r\n",
    "var hobie = new Person { FirstName = \"Hobie \", LastName = \"Buchannon\", Age = 23 };\r\n",
    "var summer = new Person { FirstName = \"Summer\", LastName = \"Quinn\", Age = 25 };\r\n",
    "var cj = new Person { FirstName = \"C.J.\", LastName = \"Parker\", Age = 23 };\r\n",
    "\r\n",
    "mitch.Friends.AddRange(new [] { hobie, summer, cj });\r\n",
    "hobie.Friends.AddRange(new [] { mitch, summer, cj });\r\n",
    "summer.Friends.AddRange(new [] { mitch, hobie, cj });\r\n",
    "cj.Friends.AddRange(new [] { mitch, hobie, summer });\r\n",
    "\r\n",
    "var groupOfPeople = new List<Person> { mitch, hobie, summer, cj };\r\n",
    "\r\n",
    "display(groupOfPeople);"
   ],
   "outputs": [
    {
     "output_type": "execute_result",
     "execution_count": 1,
     "data": {
      "text/html": [
       "<table><thead><tr><th><i>index</i></th><th>FirstName</th><th>LastName</th><th>Age</th><th>Friends</th></tr></thead><tbody><tr><td>0</td><td><div class=\"dni-plaintext\">Mitch</div></td><td><div class=\"dni-plaintext\">Buchannon</div></td><td><div class=\"dni-plaintext\">42</div></td><td><div class=\"dni-plaintext\">[ Submission#9+Person, Submission#9+Person, Submission#9+Person ]</div></td></tr><tr><td>1</td><td><div class=\"dni-plaintext\">Hobie </div></td><td><div class=\"dni-plaintext\">Buchannon</div></td><td><div class=\"dni-plaintext\">23</div></td><td><div class=\"dni-plaintext\">[ Submission#9+Person, Submission#9+Person, Submission#9+Person ]</div></td></tr><tr><td>2</td><td><div class=\"dni-plaintext\">Summer</div></td><td><div class=\"dni-plaintext\">Quinn</div></td><td><div class=\"dni-plaintext\">25</div></td><td><div class=\"dni-plaintext\">[ Submission#9+Person, Submission#9+Person, Submission#9+Person ]</div></td></tr><tr><td>3</td><td><div class=\"dni-plaintext\">C.J.</div></td><td><div class=\"dni-plaintext\">Parker</div></td><td><div class=\"dni-plaintext\">23</div></td><td><div class=\"dni-plaintext\">[ Submission#9+Person, Submission#9+Person, Submission#9+Person ]</div></td></tr></tbody></table>"
      ]
     },
     "metadata": {}
    }
   ]
  },
  {
   "cell_type": "markdown",
   "metadata": {},
   "source": "That's a bit hard to read, right? \n\nThe defaut formatting behaviors are thorough, but that doesn't always mean they're as useful as they might be. In order to give you more control in these kinds of cases, the object formatters can be customized from within the .NET notebook."
  },
  {
   "cell_type": "markdown",
   "metadata": {},
   "source": "## Custom formatters"
  },
  {
   "cell_type": "markdown",
   "metadata": {},
   "source": "Let's clean up the output above by customizing the formatter for the `Person.Friends` property, which is creating a lot of noise. \n\nThe way to do this is to use the `Formatter` API. This API lets you customize the formatting for a specific type. Since `Person.Friends` is of type `List<Person>`, we can register a custom formatter for that type to change the output. Let's just list their first names:"
  },
  {
   "cell_type": "code",
   "execution_count": 1,
   "metadata": {},
   "source": [
    "Formatter<List<Person>>.Register((people, writer) => {\r\n",
    "   foreach (var person in people)\r\n",
    "   {\r\n",
    "       writer.Write(\"person\");\r\n",
    "   }\r\n",
    "}, mimeType: \"text/plain\");\r\n",
    "\r\n",
    "groupOfPeople"
   ],
   "outputs": [
    {
     "output_type": "execute_result",
     "execution_count": 1,
     "data": {
      "text/html": [
       "<table><thead><tr><th><i>index</i></th><th>FirstName</th><th>LastName</th><th>Age</th><th>Friends</th></tr></thead><tbody><tr><td>0</td><td><div class=\"dni-plaintext\">Mitch</div></td><td><div class=\"dni-plaintext\">Buchannon</div></td><td><div class=\"dni-plaintext\">42</div></td><td><div class=\"dni-plaintext\">personpersonperson</div></td></tr><tr><td>1</td><td><div class=\"dni-plaintext\">Hobie </div></td><td><div class=\"dni-plaintext\">Buchannon</div></td><td><div class=\"dni-plaintext\">23</div></td><td><div class=\"dni-plaintext\">personpersonperson</div></td></tr><tr><td>2</td><td><div class=\"dni-plaintext\">Summer</div></td><td><div class=\"dni-plaintext\">Quinn</div></td><td><div class=\"dni-plaintext\">25</div></td><td><div class=\"dni-plaintext\">personpersonperson</div></td></tr><tr><td>3</td><td><div class=\"dni-plaintext\">C.J.</div></td><td><div class=\"dni-plaintext\">Parker</div></td><td><div class=\"dni-plaintext\">23</div></td><td><div class=\"dni-plaintext\">personpersonperson</div></td></tr></tbody></table>"
      ]
     },
     "metadata": {}
    }
   ]
  },
  {
   "cell_type": "markdown",
   "metadata": {},
   "source": "You might have noticed that `groupOfPeople` is of type `List<Person>`, but the table output still includes columns for `LastName`, `Age`, and `Friends`. What's going on here?\n\nNotice that the custom formatter we just registered was registered for the mime type `\"text/plain\"`. The top-level formatter that's used when we call `display` requests output of mime type `\"text/html\"` and the nested objects are formatted using `\"text/plain\"`. It's the nested objects, not the top-level HTML table, that's using the custom formatter here.\n\nWith that in mind, we can make it even more concise by registering a formatter for `Person`:"
  },
  {
   "cell_type": "code",
   "execution_count": 1,
   "metadata": {},
   "source": [
    "Formatter<Person>.Register((person, writer) => {\r\n",
    "   writer.Write(person.FirstName);\r\n",
    "}, mimeType: \"text/plain\");\r\n",
    "\r\n",
    "groupOfPeople"
   ],
   "outputs": [
    {
     "output_type": "execute_result",
     "execution_count": 1,
     "data": {
      "text/html": [
       "<table><thead><tr><th><i>index</i></th><th>FirstName</th><th>LastName</th><th>Age</th><th>Friends</th></tr></thead><tbody><tr><td>0</td><td><div class=\"dni-plaintext\">Mitch</div></td><td><div class=\"dni-plaintext\">Buchannon</div></td><td><div class=\"dni-plaintext\">42</div></td><td><div class=\"dni-plaintext\">personpersonperson</div></td></tr><tr><td>1</td><td><div class=\"dni-plaintext\">Hobie </div></td><td><div class=\"dni-plaintext\">Buchannon</div></td><td><div class=\"dni-plaintext\">23</div></td><td><div class=\"dni-plaintext\">personpersonperson</div></td></tr><tr><td>2</td><td><div class=\"dni-plaintext\">Summer</div></td><td><div class=\"dni-plaintext\">Quinn</div></td><td><div class=\"dni-plaintext\">25</div></td><td><div class=\"dni-plaintext\">personpersonperson</div></td></tr><tr><td>3</td><td><div class=\"dni-plaintext\">C.J.</div></td><td><div class=\"dni-plaintext\">Parker</div></td><td><div class=\"dni-plaintext\">23</div></td><td><div class=\"dni-plaintext\">personpersonperson</div></td></tr></tbody></table>"
      ]
     },
     "metadata": {}
    }
   ]
  },
  {
   "cell_type": "markdown",
   "metadata": {},
   "source": "Of course, you might not want table output. To replace the default HTML table view, you can register a formatter for the `\"text/html\"` mime type. Let's do that, and write some HTML using PocketView."
  },
  {
   "cell_type": "code",
   "execution_count": 1,
   "metadata": {},
   "source": [
    "Formatter<List<Person>>.Register((people, writer) => \r\n",
    "{\r\n",
    "    foreach (var person in people)\r\n",
    "    {\r\n",
    "        writer.Write(\r\n",
    "            span(\r\n",
    "                b(person), \r\n",
    "                \" \",\r\n",
    "                i($\"({person.Age} years old and has {person.Friends.Count} friends)\"),\r\n",
    "                br));\r\n",
    "    }\r\n",
    "}, mimeType: \"text/html\");\r\n",
    "\r\n",
    "groupOfPeople"
   ],
   "outputs": [
    {
     "output_type": "execute_result",
     "execution_count": 1,
     "data": {
      "text/html": [
       "<span><b><table><thead><tr><th>FirstName</th><th>LastName</th><th>Age</th><th>Friends</th></tr></thead><tbody><tr><td><div class=\"dni-plaintext\">Mitch</div></td><td><div class=\"dni-plaintext\">Buchannon</div></td><td><div class=\"dni-plaintext\">42</div></td><td><span><b><table><thead><tr><th>FirstName</th><th>LastName</th><th>Age</th><th>Friends</th></tr></thead><tbody><tr><td><div class=\"dni-plaintext\">Hobie </div></td><td><div class=\"dni-plaintext\">Buchannon</div></td><td><div class=\"dni-plaintext\">23</div></td><td><span><b><table><thead><tr><th>FirstName</th><th>LastName</th><th>Age</th><th>Friends</th></tr></thead><tbody><tr><td>Mitch</td><td>Buchannon</td><td>42</td><td>[ Submission#9+Person, Submission#9+Person, Submission#9+Person ]</td></tr></tbody></table></b> <i>(42 years old and has 3 friends)</i><br></br></span><span><b><table><thead><tr><th>FirstName</th><th>LastName</th><th>Age</th><th>Friends</th></tr></thead><tbody><tr><td>Summer</td><td>Quinn</td><td>25</td><td>[ Submission#9+Person, Submission#9+Person, Submission#9+Person ]</td></tr></tbody></table></b> <i>(25 years old and has 3 friends)</i><br></br></span><span><b><table><thead><tr><th>FirstName</th><th>LastName</th><th>Age</th><th>Friends</th></tr></thead><tbody><tr><td>C.J.</td><td>Parker</td><td>23</td><td>[ Submission#9+Person, Submission#9+Person, Submission#9+Person ]</td></tr></tbody></table></b> <i>(23 years old and has 3 friends)</i><br></br></span></td></tr></tbody></table></b> <i>(23 years old and has 3 friends)</i><br></br></span><span><b><table><thead><tr><th>FirstName</th><th>LastName</th><th>Age</th><th>Friends</th></tr></thead><tbody><tr><td><div class=\"dni-plaintext\">Summer</div></td><td><div class=\"dni-plaintext\">Quinn</div></td><td><div class=\"dni-plaintext\">25</div></td><td><span><b><table><thead><tr><th>FirstName</th><th>LastName</th><th>Age</th><th>Friends</th></tr></thead><tbody><tr><td>Mitch</td><td>Buchannon</td><td>42</td><td>[ Submission#9+Person, Submission#9+Person, Submission#9+Person ]</td></tr></tbody></table></b> <i>(42 years old and has 3 friends)</i><br></br></span><span><b><table><thead><tr><th>FirstName</th><th>LastName</th><th>Age</th><th>Friends</th></tr></thead><tbody><tr><td>Hobie </td><td>Buchannon</td><td>23</td><td>[ Submission#9+Person, Submission#9+Person, Submission#9+Person ]</td></tr></tbody></table></b> <i>(23 years old and has 3 friends)</i><br></br></span><span><b><table><thead><tr><th>FirstName</th><th>LastName</th><th>Age</th><th>Friends</th></tr></thead><tbody><tr><td>C.J.</td><td>Parker</td><td>23</td><td>[ Submission#9+Person, Submission#9+Person, Submission#9+Person ]</td></tr></tbody></table></b> <i>(23 years old and has 3 friends)</i><br></br></span></td></tr></tbody></table></b> <i>(25 years old and has 3 friends)</i><br></br></span><span><b><table><thead><tr><th>FirstName</th><th>LastName</th><th>Age</th><th>Friends</th></tr></thead><tbody><tr><td><div class=\"dni-plaintext\">C.J.</div></td><td><div class=\"dni-plaintext\">Parker</div></td><td><div class=\"dni-plaintext\">23</div></td><td><span><b><table><thead><tr><th>FirstName</th><th>LastName</th><th>Age</th><th>Friends</th></tr></thead><tbody><tr><td>Mitch</td><td>Buchannon</td><td>42</td><td>[ Submission#9+Person, Submission#9+Person, Submission#9+Person ]</td></tr></tbody></table></b> <i>(42 years old and has 3 friends)</i><br></br></span><span><b><table><thead><tr><th>FirstName</th><th>LastName</th><th>Age</th><th>Friends</th></tr></thead><tbody><tr><td>Hobie </td><td>Buchannon</td><td>23</td><td>[ Submission#9+Person, Submission#9+Person, Submission#9+Person ]</td></tr></tbody></table></b> <i>(23 years old and has 3 friends)</i><br></br></span><span><b><table><thead><tr><th>FirstName</th><th>LastName</th><th>Age</th><th>Friends</th></tr></thead><tbody><tr><td>Summer</td><td>Quinn</td><td>25</td><td>[ Submission#9+Person, Submission#9+Person, Submission#9+Person ]</td></tr></tbody></table></b> <i>(25 years old and has 3 friends)</i><br></br></span></td></tr></tbody></table></b> <i>(23 years old and has 3 friends)</i><br></br></span></td></tr></tbody></table></b> <i>(42 years old and has 3 friends)</i><br></br></span><span><b><table><thead><tr><th>FirstName</th><th>LastName</th><th>Age</th><th>Friends</th></tr></thead><tbody><tr><td><div class=\"dni-plaintext\">Hobie </div></td><td><div class=\"dni-plaintext\">Buchannon</div></td><td><div class=\"dni-plaintext\">23</div></td><td><span><b><table><thead><tr><th>FirstName</th><th>LastName</th><th>Age</th><th>Friends</th></tr></thead><tbody><tr><td><div class=\"dni-plaintext\">Mitch</div></td><td><div class=\"dni-plaintext\">Buchannon</div></td><td><div class=\"dni-plaintext\">42</div></td><td><span><b><table><thead><tr><th>FirstName</th><th>LastName</th><th>Age</th><th>Friends</th></tr></thead><tbody><tr><td>Hobie </td><td>Buchannon</td><td>23</td><td>[ Submission#9+Person, Submission#9+Person, Submission#9+Person ]</td></tr></tbody></table></b> <i>(23 years old and has 3 friends)</i><br></br></span><span><b><table><thead><tr><th>FirstName</th><th>LastName</th><th>Age</th><th>Friends</th></tr></thead><tbody><tr><td>Summer</td><td>Quinn</td><td>25</td><td>[ Submission#9+Person, Submission#9+Person, Submission#9+Person ]</td></tr></tbody></table></b> <i>(25 years old and has 3 friends)</i><br></br></span><span><b><table><thead><tr><th>FirstName</th><th>LastName</th><th>Age</th><th>Friends</th></tr></thead><tbody><tr><td>C.J.</td><td>Parker</td><td>23</td><td>[ Submission#9+Person, Submission#9+Person, Submission#9+Person ]</td></tr></tbody></table></b> <i>(23 years old and has 3 friends)</i><br></br></span></td></tr></tbody></table></b> <i>(42 years old and has 3 friends)</i><br></br></span><span><b><table><thead><tr><th>FirstName</th><th>LastName</th><th>Age</th><th>Friends</th></tr></thead><tbody><tr><td><div class=\"dni-plaintext\">Summer</div></td><td><div class=\"dni-plaintext\">Quinn</div></td><td><div class=\"dni-plaintext\">25</div></td><td><span><b><table><thead><tr><th>FirstName</th><th>LastName</th><th>Age</th><th>Friends</th></tr></thead><tbody><tr><td>Mitch</td><td>Buchannon</td><td>42</td><td>[ Submission#9+Person, Submission#9+Person, Submission#9+Person ]</td></tr></tbody></table></b> <i>(42 years old and has 3 friends)</i><br></br></span><span><b><table><thead><tr><th>FirstName</th><th>LastName</th><th>Age</th><th>Friends</th></tr></thead><tbody><tr><td>Hobie </td><td>Buchannon</td><td>23</td><td>[ Submission#9+Person, Submission#9+Person, Submission#9+Person ]</td></tr></tbody></table></b> <i>(23 years old and has 3 friends)</i><br></br></span><span><b><table><thead><tr><th>FirstName</th><th>LastName</th><th>Age</th><th>Friends</th></tr></thead><tbody><tr><td>C.J.</td><td>Parker</td><td>23</td><td>[ Submission#9+Person, Submission#9+Person, Submission#9+Person ]</td></tr></tbody></table></b> <i>(23 years old and has 3 friends)</i><br></br></span></td></tr></tbody></table></b> <i>(25 years old and has 3 friends)</i><br></br></span><span><b><table><thead><tr><th>FirstName</th><th>LastName</th><th>Age</th><th>Friends</th></tr></thead><tbody><tr><td><div class=\"dni-plaintext\">C.J.</div></td><td><div class=\"dni-plaintext\">Parker</div></td><td><div class=\"dni-plaintext\">23</div></td><td><span><b><table><thead><tr><th>FirstName</th><th>LastName</th><th>Age</th><th>Friends</th></tr></thead><tbody><tr><td>Mitch</td><td>Buchannon</td><td>42</td><td>[ Submission#9+Person, Submission#9+Person, Submission#9+Person ]</td></tr></tbody></table></b> <i>(42 years old and has 3 friends)</i><br></br></span><span><b><table><thead><tr><th>FirstName</th><th>LastName</th><th>Age</th><th>Friends</th></tr></thead><tbody><tr><td>Hobie </td><td>Buchannon</td><td>23</td><td>[ Submission#9+Person, Submission#9+Person, Submission#9+Person ]</td></tr></tbody></table></b> <i>(23 years old and has 3 friends)</i><br></br></span><span><b><table><thead><tr><th>FirstName</th><th>LastName</th><th>Age</th><th>Friends</th></tr></thead><tbody><tr><td>Summer</td><td>Quinn</td><td>25</td><td>[ Submission#9+Person, Submission#9+Person, Submission#9+Person ]</td></tr></tbody></table></b> <i>(25 years old and has 3 friends)</i><br></br></span></td></tr></tbody></table></b> <i>(23 years old and has 3 friends)</i><br></br></span></td></tr></tbody></table></b> <i>(23 years old and has 3 friends)</i><br></br></span><span><b><table><thead><tr><th>FirstName</th><th>LastName</th><th>Age</th><th>Friends</th></tr></thead><tbody><tr><td><div class=\"dni-plaintext\">Summer</div></td><td><div class=\"dni-plaintext\">Quinn</div></td><td><div class=\"dni-plaintext\">25</div></td><td><span><b><table><thead><tr><th>FirstName</th><th>LastName</th><th>Age</th><th>Friends</th></tr></thead><tbody><tr><td><div class=\"dni-plaintext\">Mitch</div></td><td><div class=\"dni-plaintext\">Buchannon</div></td><td><div class=\"dni-plaintext\">42</div></td><td><span><b><table><thead><tr><th>FirstName</th><th>LastName</th><th>Age</th><th>Friends</th></tr></thead><tbody><tr><td>Hobie </td><td>Buchannon</td><td>23</td><td>[ Submission#9+Person, Submission#9+Person, Submission#9+Person ]</td></tr></tbody></table></b> <i>(23 years old and has 3 friends)</i><br></br></span><span><b><table><thead><tr><th>FirstName</th><th>LastName</th><th>Age</th><th>Friends</th></tr></thead><tbody><tr><td>Summer</td><td>Quinn</td><td>25</td><td>[ Submission#9+Person, Submission#9+Person, Submission#9+Person ]</td></tr></tbody></table></b> <i>(25 years old and has 3 friends)</i><br></br></span><span><b><table><thead><tr><th>FirstName</th><th>LastName</th><th>Age</th><th>Friends</th></tr></thead><tbody><tr><td>C.J.</td><td>Parker</td><td>23</td><td>[ Submission#9+Person, Submission#9+Person, Submission#9+Person ]</td></tr></tbody></table></b> <i>(23 years old and has 3 friends)</i><br></br></span></td></tr></tbody></table></b> <i>(42 years old and has 3 friends)</i><br></br></span><span><b><table><thead><tr><th>FirstName</th><th>LastName</th><th>Age</th><th>Friends</th></tr></thead><tbody><tr><td><div class=\"dni-plaintext\">Hobie </div></td><td><div class=\"dni-plaintext\">Buchannon</div></td><td><div class=\"dni-plaintext\">23</div></td><td><span><b><table><thead><tr><th>FirstName</th><th>LastName</th><th>Age</th><th>Friends</th></tr></thead><tbody><tr><td>Mitch</td><td>Buchannon</td><td>42</td><td>[ Submission#9+Person, Submission#9+Person, Submission#9+Person ]</td></tr></tbody></table></b> <i>(42 years old and has 3 friends)</i><br></br></span><span><b><table><thead><tr><th>FirstName</th><th>LastName</th><th>Age</th><th>Friends</th></tr></thead><tbody><tr><td>Summer</td><td>Quinn</td><td>25</td><td>[ Submission#9+Person, Submission#9+Person, Submission#9+Person ]</td></tr></tbody></table></b> <i>(25 years old and has 3 friends)</i><br></br></span><span><b><table><thead><tr><th>FirstName</th><th>LastName</th><th>Age</th><th>Friends</th></tr></thead><tbody><tr><td>C.J.</td><td>Parker</td><td>23</td><td>[ Submission#9+Person, Submission#9+Person, Submission#9+Person ]</td></tr></tbody></table></b> <i>(23 years old and has 3 friends)</i><br></br></span></td></tr></tbody></table></b> <i>(23 years old and has 3 friends)</i><br></br></span><span><b><table><thead><tr><th>FirstName</th><th>LastName</th><th>Age</th><th>Friends</th></tr></thead><tbody><tr><td><div class=\"dni-plaintext\">C.J.</div></td><td><div class=\"dni-plaintext\">Parker</div></td><td><div class=\"dni-plaintext\">23</div></td><td><span><b><table><thead><tr><th>FirstName</th><th>LastName</th><th>Age</th><th>Friends</th></tr></thead><tbody><tr><td>Mitch</td><td>Buchannon</td><td>42</td><td>[ Submission#9+Person, Submission#9+Person, Submission#9+Person ]</td></tr></tbody></table></b> <i>(42 years old and has 3 friends)</i><br></br></span><span><b><table><thead><tr><th>FirstName</th><th>LastName</th><th>Age</th><th>Friends</th></tr></thead><tbody><tr><td>Hobie </td><td>Buchannon</td><td>23</td><td>[ Submission#9+Person, Submission#9+Person, Submission#9+Person ]</td></tr></tbody></table></b> <i>(23 years old and has 3 friends)</i><br></br></span><span><b><table><thead><tr><th>FirstName</th><th>LastName</th><th>Age</th><th>Friends</th></tr></thead><tbody><tr><td>Summer</td><td>Quinn</td><td>25</td><td>[ Submission#9+Person, Submission#9+Person, Submission#9+Person ]</td></tr></tbody></table></b> <i>(25 years old and has 3 friends)</i><br></br></span></td></tr></tbody></table></b> <i>(23 years old and has 3 friends)</i><br></br></span></td></tr></tbody></table></b> <i>(25 years old and has 3 friends)</i><br></br></span><span><b><table><thead><tr><th>FirstName</th><th>LastName</th><th>Age</th><th>Friends</th></tr></thead><tbody><tr><td><div class=\"dni-plaintext\">C.J.</div></td><td><div class=\"dni-plaintext\">Parker</div></td><td><div class=\"dni-plaintext\">23</div></td><td><span><b><table><thead><tr><th>FirstName</th><th>LastName</th><th>Age</th><th>Friends</th></tr></thead><tbody><tr><td><div class=\"dni-plaintext\">Mitch</div></td><td><div class=\"dni-plaintext\">Buchannon</div></td><td><div class=\"dni-plaintext\">42</div></td><td><span><b><table><thead><tr><th>FirstName</th><th>LastName</th><th>Age</th><th>Friends</th></tr></thead><tbody><tr><td>Hobie </td><td>Buchannon</td><td>23</td><td>[ Submission#9+Person, Submission#9+Person, Submission#9+Person ]</td></tr></tbody></table></b> <i>(23 years old and has 3 friends)</i><br></br></span><span><b><table><thead><tr><th>FirstName</th><th>LastName</th><th>Age</th><th>Friends</th></tr></thead><tbody><tr><td>Summer</td><td>Quinn</td><td>25</td><td>[ Submission#9+Person, Submission#9+Person, Submission#9+Person ]</td></tr></tbody></table></b> <i>(25 years old and has 3 friends)</i><br></br></span><span><b><table><thead><tr><th>FirstName</th><th>LastName</th><th>Age</th><th>Friends</th></tr></thead><tbody><tr><td>C.J.</td><td>Parker</td><td>23</td><td>[ Submission#9+Person, Submission#9+Person, Submission#9+Person ]</td></tr></tbody></table></b> <i>(23 years old and has 3 friends)</i><br></br></span></td></tr></tbody></table></b> <i>(42 years old and has 3 friends)</i><br></br></span><span><b><table><thead><tr><th>FirstName</th><th>LastName</th><th>Age</th><th>Friends</th></tr></thead><tbody><tr><td><div class=\"dni-plaintext\">Hobie </div></td><td><div class=\"dni-plaintext\">Buchannon</div></td><td><div class=\"dni-plaintext\">23</div></td><td><span><b><table><thead><tr><th>FirstName</th><th>LastName</th><th>Age</th><th>Friends</th></tr></thead><tbody><tr><td>Mitch</td><td>Buchannon</td><td>42</td><td>[ Submission#9+Person, Submission#9+Person, Submission#9+Person ]</td></tr></tbody></table></b> <i>(42 years old and has 3 friends)</i><br></br></span><span><b><table><thead><tr><th>FirstName</th><th>LastName</th><th>Age</th><th>Friends</th></tr></thead><tbody><tr><td>Summer</td><td>Quinn</td><td>25</td><td>[ Submission#9+Person, Submission#9+Person, Submission#9+Person ]</td></tr></tbody></table></b> <i>(25 years old and has 3 friends)</i><br></br></span><span><b><table><thead><tr><th>FirstName</th><th>LastName</th><th>Age</th><th>Friends</th></tr></thead><tbody><tr><td>C.J.</td><td>Parker</td><td>23</td><td>[ Submission#9+Person, Submission#9+Person, Submission#9+Person ]</td></tr></tbody></table></b> <i>(23 years old and has 3 friends)</i><br></br></span></td></tr></tbody></table></b> <i>(23 years old and has 3 friends)</i><br></br></span><span><b><table><thead><tr><th>FirstName</th><th>LastName</th><th>Age</th><th>Friends</th></tr></thead><tbody><tr><td><div class=\"dni-plaintext\">Summer</div></td><td><div class=\"dni-plaintext\">Quinn</div></td><td><div class=\"dni-plaintext\">25</div></td><td><span><b><table><thead><tr><th>FirstName</th><th>LastName</th><th>Age</th><th>Friends</th></tr></thead><tbody><tr><td>Mitch</td><td>Buchannon</td><td>42</td><td>[ Submission#9+Person, Submission#9+Person, Submission#9+Person ]</td></tr></tbody></table></b> <i>(42 years old and has 3 friends)</i><br></br></span><span><b><table><thead><tr><th>FirstName</th><th>LastName</th><th>Age</th><th>Friends</th></tr></thead><tbody><tr><td>Hobie </td><td>Buchannon</td><td>23</td><td>[ Submission#9+Person, Submission#9+Person, Submission#9+Person ]</td></tr></tbody></table></b> <i>(23 years old and has 3 friends)</i><br></br></span><span><b><table><thead><tr><th>FirstName</th><th>LastName</th><th>Age</th><th>Friends</th></tr></thead><tbody><tr><td>C.J.</td><td>Parker</td><td>23</td><td>[ Submission#9+Person, Submission#9+Person, Submission#9+Person ]</td></tr></tbody></table></b> <i>(23 years old and has 3 friends)</i><br></br></span></td></tr></tbody></table></b> <i>(25 years old and has 3 friends)</i><br></br></span></td></tr></tbody></table></b> <i>(23 years old and has 3 friends)</i><br></br></span>"
      ]
     },
     "metadata": {}
    }
   ]
  },
  {
   "cell_type": "markdown",
   "metadata": {},
   "source": "---\n**_See also_**\n* [Displaying output](Displaying%20output.ipynb)\n* [HTML](HTML.ipynb)"
  },
  {
   "cell_type": "code",
   "execution_count": 1,
   "metadata": {},
   "source": [
    ""
   ],
   "outputs": []
  }
 ],
 "metadata": {
  "kernelspec": {
   "display_name": ".NET (C#)",
   "language": "C#",
   "name": ".net-csharp"
  },
  "language_info": {
   "file_extension": ".cs",
   "mimetype": "text/x-csharp",
   "name": "C#",
   "pygments_lexer": "csharp",
   "version": "8.0"
  }
 },
 "nbformat": 4,
 "nbformat_minor": 4
}