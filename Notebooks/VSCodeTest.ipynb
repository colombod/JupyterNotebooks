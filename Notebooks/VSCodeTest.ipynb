{
 "cells": [
  {
   "cell_type": "markdown",
   "metadata": {},
   "source": "VSCode Test"
  },
  {
   "cell_type": "code",
   "execution_count": 1,
   "metadata": {},
   "source": [
    "#r \"nuget:System.Reactive.Linq, 4.1.5\""
   ],
   "outputs": []
  },
  {
   "cell_type": "code",
   "execution_count": 1,
   "metadata": {},
   "source": [
    "#!html\r\n",
    "<b>Hello!</b>"
   ],
   "outputs": []
  },
  {
   "cell_type": "code",
   "execution_count": 1,
   "metadata": {},
   "source": [
    "display(\r\n",
    "    span(\r\n",
    "        img[src:\"https://en.wikipedia.org/favicon.ico\", style:\"height:1.5em\"],\r\n",
    "        a[href: @\"https://en.wikipedia.org\", target: \"blank\", style:\"color:green\"](b(\"Wikipedia\"))\r\n",
    "    )\r\n",
    ");"
   ],
   "outputs": []
  },
  {
   "cell_type": "code",
   "execution_count": 1,
   "metadata": {},
   "source": [
    "#!javascript\r\n",
    "display(\"hello\");"
   ],
   "outputs": []
  },
  {
   "cell_type": "code",
   "execution_count": 1,
   "metadata": {},
   "source": [
    "Javascript(@\"alert(\"\"Hello!\"\");\");"
   ],
   "outputs": []
  },
  {
   "cell_type": "markdown",
   "metadata": {},
   "source": "Write a **list** ...\n* first\n* second\n\n...or a _table_...\n\n|Fruit    |Texture |\n|---------|--------|\n|apple    |smooth  |\n|durian   |bumpy   |"
  },
  {
   "cell_type": "code",
   "execution_count": 1,
   "metadata": {},
   "source": [
    "using System.Reactive;\r\n",
    "using System.Reactive.Linq;\r\n",
    "using System.Reactive.Concurrency;\r\n",
    "\r\n",
    "var output = display(\"Counting...\");\r\n",
    "\r\n",
    "var sub = Observable\r\n",
    "    .Interval(TimeSpan.FromSeconds(.5), CurrentThreadScheduler.Instance)    \r\n",
    "    .Take(10) \r\n",
    "    .Subscribe(i => output.Update(i));"
   ],
   "outputs": []
  },
  {
   "cell_type": "code",
   "execution_count": 1,
   "metadata": {},
   "source": [
    "#!javascript\r\n",
    "#!js\r\n",
    "\r\n",
    "notebookScope.map = (mapboxContainerId) => {   \r\n",
    "\r\n",
    "    let mapboxglLoader = getJsLoader({\r\n",
    "        paths: {\r\n",
    "            mapboxgl: \"https://api.mapbox.com/mapbox-gl-js/v1.12.0/mapbox-gl\"\r\n",
    "        }\r\n",
    "    });\r\n",
    "\r\n",
    "    mapboxglLoader([\"mapboxgl\"], function (mapboxgl) {   \r\n",
    "\r\n",
    "            mapboxgl.accessToken = \"pk.eyJ1IjoidHJtY25lYWx5IiwiYSI6ImNrZDN3aGNvMzBxNjQycW16Zml2M2UwZmcifQ.aT8sIrXsA2pHPSjw_U-fUA\";\r\n",
    "\r\n",
    "            var map = new mapboxgl.Map({\r\n",
    "                container: mapboxContainerId,\r\n",
    "                style: \"mapbox://styles/mapbox/dark-v10\",\r\n",
    "                bounds: [[-106.52775578, 25.85656136], [-93.53154648, 36.49897217]]\r\n",
    "            });\r\n",
    "\r\n",
    "    });\r\n",
    "}"
   ],
   "outputs": [
    {
     "output_type": "execute_result",
     "execution_count": 1,
     "data": {
      "text/html": [
       "<script type=\"text/javascript\">if (typeof window.createDotnetInteractiveClient === typeof Function) {\r\n",
       "createDotnetInteractiveClient('http://192.168.1.40:1000/').then(function (interactive) {\r\n",
       "let notebookScope = getDotnetInteractiveScope('http://192.168.1.40:1000/');\r\n",
       "\r\n",
       "\r\n",
       "notebookScope.map = (mapboxContainerId) => {   \r\n",
       "\r\n",
       "    let mapboxglLoader = getJsLoader({\r\n",
       "        paths: {\r\n",
       "            mapboxgl: \"https://api.mapbox.com/mapbox-gl-js/v1.12.0/mapbox-gl\"\r\n",
       "        }\r\n",
       "    });\r\n",
       "\r\n",
       "    mapboxglLoader([\"mapboxgl\"], function (mapboxgl) {   \r\n",
       "\r\n",
       "            mapboxgl.accessToken = \"pk.eyJ1IjoidHJtY25lYWx5IiwiYSI6ImNrZDN3aGNvMzBxNjQycW16Zml2M2UwZmcifQ.aT8sIrXsA2pHPSjw_U-fUA\";\r\n",
       "\r\n",
       "            var map = new mapboxgl.Map({\r\n",
       "                container: mapboxContainerId,\r\n",
       "                style: \"mapbox://styles/mapbox/dark-v10\",\r\n",
       "                bounds: [[-106.52775578, 25.85656136], [-93.53154648, 36.49897217]]\r\n",
       "            });\r\n",
       "\r\n",
       "    });\r\n",
       "}\r\n",
       "});\r\n",
       "}</script>"
      ]
     },
     "metadata": {}
    }
   ]
  },
  {
   "cell_type": "code",
   "execution_count": 1,
   "metadata": {},
   "source": [
    "#!html\r\n",
    "<div id=\"mapView\" width=\"100%\" height=\"500px\"></div>"
   ],
   "outputs": [
    {
     "output_type": "execute_result",
     "execution_count": 1,
     "data": {
      "text/html": [
       "<div id=\"mapView\" width=\"100%\" height=\"500px\"></div>"
      ]
     },
     "metadata": {}
    }
   ]
  },
  {
   "cell_type": "code",
   "execution_count": 1,
   "metadata": {},
   "source": [
    "#!javascript\r\n",
    "notebookScope.map(\"div#mapView\");"
   ],
   "outputs": [
    {
     "output_type": "execute_result",
     "execution_count": 1,
     "data": {
      "text/html": [
       "<script type=\"text/javascript\">if (typeof window.createDotnetInteractiveClient === typeof Function) {\r\n",
       "createDotnetInteractiveClient('http://192.168.1.40:1000/').then(function (interactive) {\r\n",
       "let notebookScope = getDotnetInteractiveScope('http://192.168.1.40:1000/');\r\n",
       "notebookScope.map(\"div#mapView\");\r\n",
       "});\r\n",
       "}</script>"
      ]
     },
     "metadata": {}
    }
   ]
  }
 ],
 "metadata": {
  "kernelspec": {
   "display_name": ".NET (C#)",
   "language": "C#",
   "name": ".net-csharp"
  },
  "language_info": {
   "file_extension": ".cs",
   "mimetype": "text/x-csharp",
   "name": "C#",
   "pygments_lexer": "csharp",
   "version": "8.0"
  }
 },
 "nbformat": 4,
 "nbformat_minor": 4
}