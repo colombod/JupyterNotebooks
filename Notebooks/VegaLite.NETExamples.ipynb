{
 "cells": [
  {
   "cell_type": "code",
   "execution_count": 3,
   "metadata": {},
   "outputs": [
    {
     "data": {
      "text/html": [
       "Installed package VegaLite.NET version 1.0.5"
      ]
     },
     "metadata": {},
     "output_type": "display_data"
    }
   ],
   "source": [
    "#r \"nuget:VegaLite.NET,1.0.5\""
   ]
  },
  {
   "cell_type": "code",
   "execution_count": 4,
   "metadata": {},
   "outputs": [],
   "source": [
    "using VegaLite;"
   ]
  },
  {
   "cell_type": "code",
   "execution_count": 6,
   "metadata": {},
   "outputs": [],
   "source": [
    "VegaLite.Specification vegaLiteSpecification;"
   ]
  },
  {
   "cell_type": "code",
   "execution_count": 26,
   "metadata": {},
   "outputs": [],
   "source": [
    "string json = System.IO.File.ReadAllText(\"examples/bar.vl.json\");\n",
    "\n",
    "vegaLiteSpecification = VegaLite.Specification.FromJson(json);"
   ]
  },
  {
   "cell_type": "code",
   "execution_count": 27,
   "metadata": {},
   "outputs": [],
   "source": [
    "Chart chart = new Chart(vegaLiteSpecification, 500, 500);"
   ]
  },
  {
   "cell_type": "code",
   "execution_count": 28,
   "metadata": {},
   "outputs": [
    {
     "data": {
      "text/html": [
       "<div id=\"f437e78b-c4da-411b-b3e3-9d24a471a379\">\n",
       "    <h1>A simple bar chart with embedded data.</h1>\n",
       "    <div id=\"vis-f437e78b-c4da-411b-b3e3-9d24a471a379\"></div>\n",
       "    <script type=\"text/javascript\">\n",
       "        var renderVegaLite = function() {            var vlSpec = {\"$schema\":\"https://vega.github.io/schema/vega-lite/v4.json\",\"data\":{\"values\":[{\"a\":\"A\",\"b\":28},{\"a\":\"B\",\"b\":55},{\"a\":\"C\",\"b\":43},{\"a\":\"D\",\"b\":91},{\"a\":\"E\",\"b\":81},{\"a\":\"F\",\"b\":53},{\"a\":\"G\",\"b\":19},{\"a\":\"H\",\"b\":87},{\"a\":\"I\",\"b\":52}]},\"description\":\"A simple bar chart with embedded data.\",\"encoding\":{\"x\":{\"field\":\"a\",\"type\":\"ordinal\"},\"y\":{\"field\":\"b\",\"type\":\"quantitative\"}},\"height\":500.0,\"mark\":\"bar\",\"width\":500.0};\n",
       "            vegaEmbed('#vis-f437e78b-c4da-411b-b3e3-9d24a471a379', vlSpec);\n",
       "        };\n",
       "        var loadScript = function(url) {\n",
       "            var script = document.createElement(\"script\");\n",
       "            script.setAttribute(\"type\", \"text/javascript\");\n",
       "            script.setAttribute(\"src\", url);\n",
       "            return script;\n",
       "        };\n",
       "        \n",
       "        var vegaScript = loadScript(\"https://cdn.jsdelivr.net/npm/vega@5.9.0\");\n",
       "        vegaScript.onload = function(){\n",
       "            var vegaliteScript = loadScript(\"https://cdn.jsdelivr.net/npm/vega-lite@4.0.2\");\n",
       "            vegaliteScript.onload = function(){\n",
       "                var vegaembedScript = loadScript(\"https://cdn.jsdelivr.net/npm/vega-embed@6.2.1\");\n",
       "                vegaembedScript.onload = function(){\n",
       "                    renderVegaLite();\n",
       "                };\n",
       "                document.getElementsByTagName(\"head\")[0].appendChild(vegaembedScript);\n",
       "            };\n",
       "            document.getElementsByTagName(\"head\")[0].appendChild(vegaliteScript);\n",
       "        };\n",
       "        document.getElementsByTagName(\"head\")[0].appendChild(vegaScript);\n",
       "\n",
       "    </script>\n",
       "</div>\n"
      ]
     },
     "execution_count": 28,
     "metadata": {},
     "output_type": "execute_result"
    }
   ],
   "source": [
    "chart"
   ]
  },
  {
   "cell_type": "code",
   "execution_count": null,
   "metadata": {},
   "outputs": [],
   "source": []
  }
 ],
 "metadata": {
  "kernelspec": {
   "display_name": ".NET (C#)",
   "language": "C#",
   "name": ".net-csharp"
  },
  "language_info": {
   "file_extension": ".cs",
   "mimetype": "text/x-csharp",
   "name": "C#",
   "pygments_lexer": "csharp",
   "version": "8.0"
  }
 },
 "nbformat": 4,
 "nbformat_minor": 4
}
